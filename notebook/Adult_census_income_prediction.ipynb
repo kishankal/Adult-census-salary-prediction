{
  "nbformat": 4,
  "nbformat_minor": 0,
  "metadata": {
    "colab": {
      "provenance": []
    },
    "kernelspec": {
      "name": "python3",
      "display_name": "Python 3"
    },
    "language_info": {
      "name": "python"
    }
  },
  "cells": [
    {
      "cell_type": "markdown",
      "source": [
        "# Understand the problem :\n",
        "\n",
        "#### The prominent inequality of wealth and income is a huge concern, especially in the United States. The likelihood of diminishing poverty is one valid reason to reduce the world's surging level of economic inequality. The principle of universal moral equality ensures sustainable development and improves the economic stability of a nation. Governments in different countries have been trying their best to address this problem and provide an optimal solution. This study aims to show the usage of machine learning and data mining techniques in providing a solution to the income equality problem. The Kaggle Adult Dataset has been used for this purpose. Classification has been done to predict whether a person's yearly income in the US falls in the income category of either greater than 50K Dollars or less equal to 50K Dollars category based on a certain set of attributes. The XG Boosting Classifier Model was deployed which clocked the highest accuracy of 92.19%, eventually breaking the benchmark accuracy of existing works.\n"
      ],
      "metadata": {
        "id": "U3OveOnlEK_Y"
      }
    },
    {
      "cell_type": "code",
      "source": [
        "pip install xgboost"
      ],
      "metadata": {
        "colab": {
          "base_uri": "https://localhost:8080/"
        },
        "id": "1TQwMOh_ES7Q",
        "outputId": "688d8467-be41-46f0-97c0-36192478d021"
      },
      "execution_count": null,
      "outputs": [
        {
          "output_type": "stream",
          "name": "stdout",
          "text": [
            "Looking in indexes: https://pypi.org/simple, https://us-python.pkg.dev/colab-wheels/public/simple/\n",
            "Requirement already satisfied: xgboost in /usr/local/lib/python3.8/dist-packages (0.90)\n",
            "Requirement already satisfied: numpy in /usr/local/lib/python3.8/dist-packages (from xgboost) (1.21.6)\n",
            "Requirement already satisfied: scipy in /usr/local/lib/python3.8/dist-packages (from xgboost) (1.7.3)\n"
          ]
        }
      ]
    },
    {
      "cell_type": "code",
      "source": [
        "import pandas as pd\n",
        "import numpy as np\n",
        "import seaborn as sns\n",
        "import matplotlib.pyplot as plt\n",
        "import xgboost as xgb\n",
        "from xgboost import XGBRegressor\n",
        "import warnings\n",
        "warnings.filterwarnings\n",
        "%matplotlib inline"
      ],
      "metadata": {
        "id": "5CSh62g0EfAo"
      },
      "execution_count": null,
      "outputs": []
    },
    {
      "cell_type": "code",
      "source": [
        "df = pd.read_csv(\"/content/adult.csv\")\n",
        "df"
      ],
      "metadata": {
        "colab": {
          "base_uri": "https://localhost:8080/",
          "height": 800
        },
        "id": "XQIdeA02En2v",
        "outputId": "561c6b8e-44c9-49f2-e40f-35a99af99ee1"
      },
      "execution_count": null,
      "outputs": [
        {
          "output_type": "execute_result",
          "data": {
            "text/plain": [
              "       age          workclass  fnlwgt    education  education-num  \\\n",
              "0       39          State-gov   77516    Bachelors             13   \n",
              "1       50   Self-emp-not-inc   83311    Bachelors             13   \n",
              "2       38            Private  215646      HS-grad              9   \n",
              "3       53            Private  234721         11th              7   \n",
              "4       28            Private  338409    Bachelors             13   \n",
              "...    ...                ...     ...          ...            ...   \n",
              "32556   27            Private  257302   Assoc-acdm             12   \n",
              "32557   40            Private  154374      HS-grad              9   \n",
              "32558   58            Private  151910      HS-grad              9   \n",
              "32559   22            Private  201490      HS-grad              9   \n",
              "32560   52       Self-emp-inc  287927      HS-grad              9   \n",
              "\n",
              "            marital-status          occupation    relationship    race  \\\n",
              "0            Never-married        Adm-clerical   Not-in-family   White   \n",
              "1       Married-civ-spouse     Exec-managerial         Husband   White   \n",
              "2                 Divorced   Handlers-cleaners   Not-in-family   White   \n",
              "3       Married-civ-spouse   Handlers-cleaners         Husband   Black   \n",
              "4       Married-civ-spouse      Prof-specialty            Wife   Black   \n",
              "...                    ...                 ...             ...     ...   \n",
              "32556   Married-civ-spouse        Tech-support            Wife   White   \n",
              "32557   Married-civ-spouse   Machine-op-inspct         Husband   White   \n",
              "32558              Widowed        Adm-clerical       Unmarried   White   \n",
              "32559        Never-married        Adm-clerical       Own-child   White   \n",
              "32560   Married-civ-spouse     Exec-managerial            Wife   White   \n",
              "\n",
              "           sex  capital-gain  capital-loss  hours-per-week         country  \\\n",
              "0         Male          2174             0              40   United-States   \n",
              "1         Male             0             0              13   United-States   \n",
              "2         Male             0             0              40   United-States   \n",
              "3         Male             0             0              40   United-States   \n",
              "4       Female             0             0              40            Cuba   \n",
              "...        ...           ...           ...             ...             ...   \n",
              "32556   Female             0             0              38   United-States   \n",
              "32557     Male             0             0              40   United-States   \n",
              "32558   Female             0             0              40   United-States   \n",
              "32559     Male             0             0              20   United-States   \n",
              "32560   Female         15024             0              40   United-States   \n",
              "\n",
              "       salary  \n",
              "0       <=50K  \n",
              "1       <=50K  \n",
              "2       <=50K  \n",
              "3       <=50K  \n",
              "4       <=50K  \n",
              "...       ...  \n",
              "32556   <=50K  \n",
              "32557    >50K  \n",
              "32558   <=50K  \n",
              "32559   <=50K  \n",
              "32560    >50K  \n",
              "\n",
              "[32561 rows x 15 columns]"
            ],
            "text/html": [
              "\n",
              "  <div id=\"df-1f88d867-885d-44c6-8019-09374bc9057a\">\n",
              "    <div class=\"colab-df-container\">\n",
              "      <div>\n",
              "<style scoped>\n",
              "    .dataframe tbody tr th:only-of-type {\n",
              "        vertical-align: middle;\n",
              "    }\n",
              "\n",
              "    .dataframe tbody tr th {\n",
              "        vertical-align: top;\n",
              "    }\n",
              "\n",
              "    .dataframe thead th {\n",
              "        text-align: right;\n",
              "    }\n",
              "</style>\n",
              "<table border=\"1\" class=\"dataframe\">\n",
              "  <thead>\n",
              "    <tr style=\"text-align: right;\">\n",
              "      <th></th>\n",
              "      <th>age</th>\n",
              "      <th>workclass</th>\n",
              "      <th>fnlwgt</th>\n",
              "      <th>education</th>\n",
              "      <th>education-num</th>\n",
              "      <th>marital-status</th>\n",
              "      <th>occupation</th>\n",
              "      <th>relationship</th>\n",
              "      <th>race</th>\n",
              "      <th>sex</th>\n",
              "      <th>capital-gain</th>\n",
              "      <th>capital-loss</th>\n",
              "      <th>hours-per-week</th>\n",
              "      <th>country</th>\n",
              "      <th>salary</th>\n",
              "    </tr>\n",
              "  </thead>\n",
              "  <tbody>\n",
              "    <tr>\n",
              "      <th>0</th>\n",
              "      <td>39</td>\n",
              "      <td>State-gov</td>\n",
              "      <td>77516</td>\n",
              "      <td>Bachelors</td>\n",
              "      <td>13</td>\n",
              "      <td>Never-married</td>\n",
              "      <td>Adm-clerical</td>\n",
              "      <td>Not-in-family</td>\n",
              "      <td>White</td>\n",
              "      <td>Male</td>\n",
              "      <td>2174</td>\n",
              "      <td>0</td>\n",
              "      <td>40</td>\n",
              "      <td>United-States</td>\n",
              "      <td>&lt;=50K</td>\n",
              "    </tr>\n",
              "    <tr>\n",
              "      <th>1</th>\n",
              "      <td>50</td>\n",
              "      <td>Self-emp-not-inc</td>\n",
              "      <td>83311</td>\n",
              "      <td>Bachelors</td>\n",
              "      <td>13</td>\n",
              "      <td>Married-civ-spouse</td>\n",
              "      <td>Exec-managerial</td>\n",
              "      <td>Husband</td>\n",
              "      <td>White</td>\n",
              "      <td>Male</td>\n",
              "      <td>0</td>\n",
              "      <td>0</td>\n",
              "      <td>13</td>\n",
              "      <td>United-States</td>\n",
              "      <td>&lt;=50K</td>\n",
              "    </tr>\n",
              "    <tr>\n",
              "      <th>2</th>\n",
              "      <td>38</td>\n",
              "      <td>Private</td>\n",
              "      <td>215646</td>\n",
              "      <td>HS-grad</td>\n",
              "      <td>9</td>\n",
              "      <td>Divorced</td>\n",
              "      <td>Handlers-cleaners</td>\n",
              "      <td>Not-in-family</td>\n",
              "      <td>White</td>\n",
              "      <td>Male</td>\n",
              "      <td>0</td>\n",
              "      <td>0</td>\n",
              "      <td>40</td>\n",
              "      <td>United-States</td>\n",
              "      <td>&lt;=50K</td>\n",
              "    </tr>\n",
              "    <tr>\n",
              "      <th>3</th>\n",
              "      <td>53</td>\n",
              "      <td>Private</td>\n",
              "      <td>234721</td>\n",
              "      <td>11th</td>\n",
              "      <td>7</td>\n",
              "      <td>Married-civ-spouse</td>\n",
              "      <td>Handlers-cleaners</td>\n",
              "      <td>Husband</td>\n",
              "      <td>Black</td>\n",
              "      <td>Male</td>\n",
              "      <td>0</td>\n",
              "      <td>0</td>\n",
              "      <td>40</td>\n",
              "      <td>United-States</td>\n",
              "      <td>&lt;=50K</td>\n",
              "    </tr>\n",
              "    <tr>\n",
              "      <th>4</th>\n",
              "      <td>28</td>\n",
              "      <td>Private</td>\n",
              "      <td>338409</td>\n",
              "      <td>Bachelors</td>\n",
              "      <td>13</td>\n",
              "      <td>Married-civ-spouse</td>\n",
              "      <td>Prof-specialty</td>\n",
              "      <td>Wife</td>\n",
              "      <td>Black</td>\n",
              "      <td>Female</td>\n",
              "      <td>0</td>\n",
              "      <td>0</td>\n",
              "      <td>40</td>\n",
              "      <td>Cuba</td>\n",
              "      <td>&lt;=50K</td>\n",
              "    </tr>\n",
              "    <tr>\n",
              "      <th>...</th>\n",
              "      <td>...</td>\n",
              "      <td>...</td>\n",
              "      <td>...</td>\n",
              "      <td>...</td>\n",
              "      <td>...</td>\n",
              "      <td>...</td>\n",
              "      <td>...</td>\n",
              "      <td>...</td>\n",
              "      <td>...</td>\n",
              "      <td>...</td>\n",
              "      <td>...</td>\n",
              "      <td>...</td>\n",
              "      <td>...</td>\n",
              "      <td>...</td>\n",
              "      <td>...</td>\n",
              "    </tr>\n",
              "    <tr>\n",
              "      <th>32556</th>\n",
              "      <td>27</td>\n",
              "      <td>Private</td>\n",
              "      <td>257302</td>\n",
              "      <td>Assoc-acdm</td>\n",
              "      <td>12</td>\n",
              "      <td>Married-civ-spouse</td>\n",
              "      <td>Tech-support</td>\n",
              "      <td>Wife</td>\n",
              "      <td>White</td>\n",
              "      <td>Female</td>\n",
              "      <td>0</td>\n",
              "      <td>0</td>\n",
              "      <td>38</td>\n",
              "      <td>United-States</td>\n",
              "      <td>&lt;=50K</td>\n",
              "    </tr>\n",
              "    <tr>\n",
              "      <th>32557</th>\n",
              "      <td>40</td>\n",
              "      <td>Private</td>\n",
              "      <td>154374</td>\n",
              "      <td>HS-grad</td>\n",
              "      <td>9</td>\n",
              "      <td>Married-civ-spouse</td>\n",
              "      <td>Machine-op-inspct</td>\n",
              "      <td>Husband</td>\n",
              "      <td>White</td>\n",
              "      <td>Male</td>\n",
              "      <td>0</td>\n",
              "      <td>0</td>\n",
              "      <td>40</td>\n",
              "      <td>United-States</td>\n",
              "      <td>&gt;50K</td>\n",
              "    </tr>\n",
              "    <tr>\n",
              "      <th>32558</th>\n",
              "      <td>58</td>\n",
              "      <td>Private</td>\n",
              "      <td>151910</td>\n",
              "      <td>HS-grad</td>\n",
              "      <td>9</td>\n",
              "      <td>Widowed</td>\n",
              "      <td>Adm-clerical</td>\n",
              "      <td>Unmarried</td>\n",
              "      <td>White</td>\n",
              "      <td>Female</td>\n",
              "      <td>0</td>\n",
              "      <td>0</td>\n",
              "      <td>40</td>\n",
              "      <td>United-States</td>\n",
              "      <td>&lt;=50K</td>\n",
              "    </tr>\n",
              "    <tr>\n",
              "      <th>32559</th>\n",
              "      <td>22</td>\n",
              "      <td>Private</td>\n",
              "      <td>201490</td>\n",
              "      <td>HS-grad</td>\n",
              "      <td>9</td>\n",
              "      <td>Never-married</td>\n",
              "      <td>Adm-clerical</td>\n",
              "      <td>Own-child</td>\n",
              "      <td>White</td>\n",
              "      <td>Male</td>\n",
              "      <td>0</td>\n",
              "      <td>0</td>\n",
              "      <td>20</td>\n",
              "      <td>United-States</td>\n",
              "      <td>&lt;=50K</td>\n",
              "    </tr>\n",
              "    <tr>\n",
              "      <th>32560</th>\n",
              "      <td>52</td>\n",
              "      <td>Self-emp-inc</td>\n",
              "      <td>287927</td>\n",
              "      <td>HS-grad</td>\n",
              "      <td>9</td>\n",
              "      <td>Married-civ-spouse</td>\n",
              "      <td>Exec-managerial</td>\n",
              "      <td>Wife</td>\n",
              "      <td>White</td>\n",
              "      <td>Female</td>\n",
              "      <td>15024</td>\n",
              "      <td>0</td>\n",
              "      <td>40</td>\n",
              "      <td>United-States</td>\n",
              "      <td>&gt;50K</td>\n",
              "    </tr>\n",
              "  </tbody>\n",
              "</table>\n",
              "<p>32561 rows × 15 columns</p>\n",
              "</div>\n",
              "      <button class=\"colab-df-convert\" onclick=\"convertToInteractive('df-1f88d867-885d-44c6-8019-09374bc9057a')\"\n",
              "              title=\"Convert this dataframe to an interactive table.\"\n",
              "              style=\"display:none;\">\n",
              "        \n",
              "  <svg xmlns=\"http://www.w3.org/2000/svg\" height=\"24px\"viewBox=\"0 0 24 24\"\n",
              "       width=\"24px\">\n",
              "    <path d=\"M0 0h24v24H0V0z\" fill=\"none\"/>\n",
              "    <path d=\"M18.56 5.44l.94 2.06.94-2.06 2.06-.94-2.06-.94-.94-2.06-.94 2.06-2.06.94zm-11 1L8.5 8.5l.94-2.06 2.06-.94-2.06-.94L8.5 2.5l-.94 2.06-2.06.94zm10 10l.94 2.06.94-2.06 2.06-.94-2.06-.94-.94-2.06-.94 2.06-2.06.94z\"/><path d=\"M17.41 7.96l-1.37-1.37c-.4-.4-.92-.59-1.43-.59-.52 0-1.04.2-1.43.59L10.3 9.45l-7.72 7.72c-.78.78-.78 2.05 0 2.83L4 21.41c.39.39.9.59 1.41.59.51 0 1.02-.2 1.41-.59l7.78-7.78 2.81-2.81c.8-.78.8-2.07 0-2.86zM5.41 20L4 18.59l7.72-7.72 1.47 1.35L5.41 20z\"/>\n",
              "  </svg>\n",
              "      </button>\n",
              "      \n",
              "  <style>\n",
              "    .colab-df-container {\n",
              "      display:flex;\n",
              "      flex-wrap:wrap;\n",
              "      gap: 12px;\n",
              "    }\n",
              "\n",
              "    .colab-df-convert {\n",
              "      background-color: #E8F0FE;\n",
              "      border: none;\n",
              "      border-radius: 50%;\n",
              "      cursor: pointer;\n",
              "      display: none;\n",
              "      fill: #1967D2;\n",
              "      height: 32px;\n",
              "      padding: 0 0 0 0;\n",
              "      width: 32px;\n",
              "    }\n",
              "\n",
              "    .colab-df-convert:hover {\n",
              "      background-color: #E2EBFA;\n",
              "      box-shadow: 0px 1px 2px rgba(60, 64, 67, 0.3), 0px 1px 3px 1px rgba(60, 64, 67, 0.15);\n",
              "      fill: #174EA6;\n",
              "    }\n",
              "\n",
              "    [theme=dark] .colab-df-convert {\n",
              "      background-color: #3B4455;\n",
              "      fill: #D2E3FC;\n",
              "    }\n",
              "\n",
              "    [theme=dark] .colab-df-convert:hover {\n",
              "      background-color: #434B5C;\n",
              "      box-shadow: 0px 1px 3px 1px rgba(0, 0, 0, 0.15);\n",
              "      filter: drop-shadow(0px 1px 2px rgba(0, 0, 0, 0.3));\n",
              "      fill: #FFFFFF;\n",
              "    }\n",
              "  </style>\n",
              "\n",
              "      <script>\n",
              "        const buttonEl =\n",
              "          document.querySelector('#df-1f88d867-885d-44c6-8019-09374bc9057a button.colab-df-convert');\n",
              "        buttonEl.style.display =\n",
              "          google.colab.kernel.accessAllowed ? 'block' : 'none';\n",
              "\n",
              "        async function convertToInteractive(key) {\n",
              "          const element = document.querySelector('#df-1f88d867-885d-44c6-8019-09374bc9057a');\n",
              "          const dataTable =\n",
              "            await google.colab.kernel.invokeFunction('convertToInteractive',\n",
              "                                                     [key], {});\n",
              "          if (!dataTable) return;\n",
              "\n",
              "          const docLinkHtml = 'Like what you see? Visit the ' +\n",
              "            '<a target=\"_blank\" href=https://colab.research.google.com/notebooks/data_table.ipynb>data table notebook</a>'\n",
              "            + ' to learn more about interactive tables.';\n",
              "          element.innerHTML = '';\n",
              "          dataTable['output_type'] = 'display_data';\n",
              "          await google.colab.output.renderOutput(dataTable, element);\n",
              "          const docLink = document.createElement('div');\n",
              "          docLink.innerHTML = docLinkHtml;\n",
              "          element.appendChild(docLink);\n",
              "        }\n",
              "      </script>\n",
              "    </div>\n",
              "  </div>\n",
              "  "
            ]
          },
          "metadata": {},
          "execution_count": 4
        }
      ]
    },
    {
      "cell_type": "code",
      "source": [
        "df.describe()"
      ],
      "metadata": {
        "colab": {
          "base_uri": "https://localhost:8080/",
          "height": 300
        },
        "id": "1C-udqTMEzsK",
        "outputId": "351f8378-f16d-4859-ba5d-49be74f4232e"
      },
      "execution_count": null,
      "outputs": [
        {
          "output_type": "execute_result",
          "data": {
            "text/plain": [
              "                age        fnlwgt  education-num  capital-gain  capital-loss  \\\n",
              "count  32561.000000  3.256100e+04   32561.000000  32561.000000  32561.000000   \n",
              "mean      38.581647  1.897784e+05      10.080679   1077.648844     87.303830   \n",
              "std       13.640433  1.055500e+05       2.572720   7385.292085    402.960219   \n",
              "min       17.000000  1.228500e+04       1.000000      0.000000      0.000000   \n",
              "25%       28.000000  1.178270e+05       9.000000      0.000000      0.000000   \n",
              "50%       37.000000  1.783560e+05      10.000000      0.000000      0.000000   \n",
              "75%       48.000000  2.370510e+05      12.000000      0.000000      0.000000   \n",
              "max       90.000000  1.484705e+06      16.000000  99999.000000   4356.000000   \n",
              "\n",
              "       hours-per-week  \n",
              "count    32561.000000  \n",
              "mean        40.437456  \n",
              "std         12.347429  \n",
              "min          1.000000  \n",
              "25%         40.000000  \n",
              "50%         40.000000  \n",
              "75%         45.000000  \n",
              "max         99.000000  "
            ],
            "text/html": [
              "\n",
              "  <div id=\"df-d5e6bd5c-3568-408d-82ac-dc772dab83eb\">\n",
              "    <div class=\"colab-df-container\">\n",
              "      <div>\n",
              "<style scoped>\n",
              "    .dataframe tbody tr th:only-of-type {\n",
              "        vertical-align: middle;\n",
              "    }\n",
              "\n",
              "    .dataframe tbody tr th {\n",
              "        vertical-align: top;\n",
              "    }\n",
              "\n",
              "    .dataframe thead th {\n",
              "        text-align: right;\n",
              "    }\n",
              "</style>\n",
              "<table border=\"1\" class=\"dataframe\">\n",
              "  <thead>\n",
              "    <tr style=\"text-align: right;\">\n",
              "      <th></th>\n",
              "      <th>age</th>\n",
              "      <th>fnlwgt</th>\n",
              "      <th>education-num</th>\n",
              "      <th>capital-gain</th>\n",
              "      <th>capital-loss</th>\n",
              "      <th>hours-per-week</th>\n",
              "    </tr>\n",
              "  </thead>\n",
              "  <tbody>\n",
              "    <tr>\n",
              "      <th>count</th>\n",
              "      <td>32561.000000</td>\n",
              "      <td>3.256100e+04</td>\n",
              "      <td>32561.000000</td>\n",
              "      <td>32561.000000</td>\n",
              "      <td>32561.000000</td>\n",
              "      <td>32561.000000</td>\n",
              "    </tr>\n",
              "    <tr>\n",
              "      <th>mean</th>\n",
              "      <td>38.581647</td>\n",
              "      <td>1.897784e+05</td>\n",
              "      <td>10.080679</td>\n",
              "      <td>1077.648844</td>\n",
              "      <td>87.303830</td>\n",
              "      <td>40.437456</td>\n",
              "    </tr>\n",
              "    <tr>\n",
              "      <th>std</th>\n",
              "      <td>13.640433</td>\n",
              "      <td>1.055500e+05</td>\n",
              "      <td>2.572720</td>\n",
              "      <td>7385.292085</td>\n",
              "      <td>402.960219</td>\n",
              "      <td>12.347429</td>\n",
              "    </tr>\n",
              "    <tr>\n",
              "      <th>min</th>\n",
              "      <td>17.000000</td>\n",
              "      <td>1.228500e+04</td>\n",
              "      <td>1.000000</td>\n",
              "      <td>0.000000</td>\n",
              "      <td>0.000000</td>\n",
              "      <td>1.000000</td>\n",
              "    </tr>\n",
              "    <tr>\n",
              "      <th>25%</th>\n",
              "      <td>28.000000</td>\n",
              "      <td>1.178270e+05</td>\n",
              "      <td>9.000000</td>\n",
              "      <td>0.000000</td>\n",
              "      <td>0.000000</td>\n",
              "      <td>40.000000</td>\n",
              "    </tr>\n",
              "    <tr>\n",
              "      <th>50%</th>\n",
              "      <td>37.000000</td>\n",
              "      <td>1.783560e+05</td>\n",
              "      <td>10.000000</td>\n",
              "      <td>0.000000</td>\n",
              "      <td>0.000000</td>\n",
              "      <td>40.000000</td>\n",
              "    </tr>\n",
              "    <tr>\n",
              "      <th>75%</th>\n",
              "      <td>48.000000</td>\n",
              "      <td>2.370510e+05</td>\n",
              "      <td>12.000000</td>\n",
              "      <td>0.000000</td>\n",
              "      <td>0.000000</td>\n",
              "      <td>45.000000</td>\n",
              "    </tr>\n",
              "    <tr>\n",
              "      <th>max</th>\n",
              "      <td>90.000000</td>\n",
              "      <td>1.484705e+06</td>\n",
              "      <td>16.000000</td>\n",
              "      <td>99999.000000</td>\n",
              "      <td>4356.000000</td>\n",
              "      <td>99.000000</td>\n",
              "    </tr>\n",
              "  </tbody>\n",
              "</table>\n",
              "</div>\n",
              "      <button class=\"colab-df-convert\" onclick=\"convertToInteractive('df-d5e6bd5c-3568-408d-82ac-dc772dab83eb')\"\n",
              "              title=\"Convert this dataframe to an interactive table.\"\n",
              "              style=\"display:none;\">\n",
              "        \n",
              "  <svg xmlns=\"http://www.w3.org/2000/svg\" height=\"24px\"viewBox=\"0 0 24 24\"\n",
              "       width=\"24px\">\n",
              "    <path d=\"M0 0h24v24H0V0z\" fill=\"none\"/>\n",
              "    <path d=\"M18.56 5.44l.94 2.06.94-2.06 2.06-.94-2.06-.94-.94-2.06-.94 2.06-2.06.94zm-11 1L8.5 8.5l.94-2.06 2.06-.94-2.06-.94L8.5 2.5l-.94 2.06-2.06.94zm10 10l.94 2.06.94-2.06 2.06-.94-2.06-.94-.94-2.06-.94 2.06-2.06.94z\"/><path d=\"M17.41 7.96l-1.37-1.37c-.4-.4-.92-.59-1.43-.59-.52 0-1.04.2-1.43.59L10.3 9.45l-7.72 7.72c-.78.78-.78 2.05 0 2.83L4 21.41c.39.39.9.59 1.41.59.51 0 1.02-.2 1.41-.59l7.78-7.78 2.81-2.81c.8-.78.8-2.07 0-2.86zM5.41 20L4 18.59l7.72-7.72 1.47 1.35L5.41 20z\"/>\n",
              "  </svg>\n",
              "      </button>\n",
              "      \n",
              "  <style>\n",
              "    .colab-df-container {\n",
              "      display:flex;\n",
              "      flex-wrap:wrap;\n",
              "      gap: 12px;\n",
              "    }\n",
              "\n",
              "    .colab-df-convert {\n",
              "      background-color: #E8F0FE;\n",
              "      border: none;\n",
              "      border-radius: 50%;\n",
              "      cursor: pointer;\n",
              "      display: none;\n",
              "      fill: #1967D2;\n",
              "      height: 32px;\n",
              "      padding: 0 0 0 0;\n",
              "      width: 32px;\n",
              "    }\n",
              "\n",
              "    .colab-df-convert:hover {\n",
              "      background-color: #E2EBFA;\n",
              "      box-shadow: 0px 1px 2px rgba(60, 64, 67, 0.3), 0px 1px 3px 1px rgba(60, 64, 67, 0.15);\n",
              "      fill: #174EA6;\n",
              "    }\n",
              "\n",
              "    [theme=dark] .colab-df-convert {\n",
              "      background-color: #3B4455;\n",
              "      fill: #D2E3FC;\n",
              "    }\n",
              "\n",
              "    [theme=dark] .colab-df-convert:hover {\n",
              "      background-color: #434B5C;\n",
              "      box-shadow: 0px 1px 3px 1px rgba(0, 0, 0, 0.15);\n",
              "      filter: drop-shadow(0px 1px 2px rgba(0, 0, 0, 0.3));\n",
              "      fill: #FFFFFF;\n",
              "    }\n",
              "  </style>\n",
              "\n",
              "      <script>\n",
              "        const buttonEl =\n",
              "          document.querySelector('#df-d5e6bd5c-3568-408d-82ac-dc772dab83eb button.colab-df-convert');\n",
              "        buttonEl.style.display =\n",
              "          google.colab.kernel.accessAllowed ? 'block' : 'none';\n",
              "\n",
              "        async function convertToInteractive(key) {\n",
              "          const element = document.querySelector('#df-d5e6bd5c-3568-408d-82ac-dc772dab83eb');\n",
              "          const dataTable =\n",
              "            await google.colab.kernel.invokeFunction('convertToInteractive',\n",
              "                                                     [key], {});\n",
              "          if (!dataTable) return;\n",
              "\n",
              "          const docLinkHtml = 'Like what you see? Visit the ' +\n",
              "            '<a target=\"_blank\" href=https://colab.research.google.com/notebooks/data_table.ipynb>data table notebook</a>'\n",
              "            + ' to learn more about interactive tables.';\n",
              "          element.innerHTML = '';\n",
              "          dataTable['output_type'] = 'display_data';\n",
              "          await google.colab.output.renderOutput(dataTable, element);\n",
              "          const docLink = document.createElement('div');\n",
              "          docLink.innerHTML = docLinkHtml;\n",
              "          element.appendChild(docLink);\n",
              "        }\n",
              "      </script>\n",
              "    </div>\n",
              "  </div>\n",
              "  "
            ]
          },
          "metadata": {},
          "execution_count": 5
        }
      ]
    },
    {
      "cell_type": "markdown",
      "source": [
        "#### We can notice above that the dataset has no Null Values, in form on N/A or 0 but it can have null in form of '?\""
      ],
      "metadata": {
        "id": "7R_b1CI7FOPL"
      }
    },
    {
      "cell_type": "code",
      "source": [
        "df.isin(['?']).sum()"
      ],
      "metadata": {
        "colab": {
          "base_uri": "https://localhost:8080/"
        },
        "id": "RhraFc1XEzu-",
        "outputId": "0ca4eced-3b66-4b76-9624-6aa4731496d4"
      },
      "execution_count": null,
      "outputs": [
        {
          "output_type": "execute_result",
          "data": {
            "text/plain": [
              "age               0\n",
              "workclass         0\n",
              "fnlwgt            0\n",
              "education         0\n",
              "education-num     0\n",
              "marital-status    0\n",
              "occupation        0\n",
              "relationship      0\n",
              "race              0\n",
              "sex               0\n",
              "capital-gain      0\n",
              "capital-loss      0\n",
              "hours-per-week    0\n",
              "country           0\n",
              "salary            0\n",
              "dtype: int64"
            ]
          },
          "metadata": {},
          "execution_count": 6
        }
      ]
    },
    {
      "cell_type": "code",
      "source": [
        "Salary_all = df['salary'].value_counts(normalize = True)\n",
        "Salary_all*100"
      ],
      "metadata": {
        "colab": {
          "base_uri": "https://localhost:8080/"
        },
        "id": "_zhkMZz1Ezx9",
        "outputId": "3d57b79f-d7bc-4b32-fd54-5e71516d02e0"
      },
      "execution_count": null,
      "outputs": [
        {
          "output_type": "execute_result",
          "data": {
            "text/plain": [
              " <=50K    75.919044\n",
              " >50K     24.080956\n",
              "Name: salary, dtype: float64"
            ]
          },
          "metadata": {},
          "execution_count": 7
        }
      ]
    },
    {
      "cell_type": "markdown",
      "source": [
        "76% salary are below 50k which is a serious issue for country.\n",
        "which clearly shows that there is large inequality of income"
      ],
      "metadata": {
        "id": "EqCknzH2Le5G"
      }
    },
    {
      "cell_type": "markdown",
      "source": [
        "#### **Visualization**"
      ],
      "metadata": {
        "id": "2e_q0G5WPXsu"
      }
    },
    {
      "cell_type": "markdown",
      "source": [
        "#### 1. Based on sex and gender"
      ],
      "metadata": {
        "id": "-KQlys-wPhEx"
      }
    },
    {
      "cell_type": "code",
      "source": [
        "plt.figure(figsize = (12,4))\n",
        "ax = sns.countplot(data = df,x='sex',hue = 'salary',palette = 'rocket')\n",
        "\n",
        "plt.xlabel('Sex',fontsize = 12)\n",
        "plt.ylabel('# of person',fontsize = 12)\n",
        "plt.ylim(0,20000)\n",
        "plt.xticks([0,1],['Male','Female'],fontsize = 12)\n",
        "plt.show()"
      ],
      "metadata": {
        "colab": {
          "base_uri": "https://localhost:8080/",
          "height": 289
        },
        "id": "OwiVn2vMEz1X",
        "outputId": "9fc7ed65-4731-452b-ab13-04dcde5a0f01"
      },
      "execution_count": null,
      "outputs": [
        {
          "output_type": "display_data",
          "data": {
            "text/plain": [
              "<Figure size 864x288 with 1 Axes>"
            ],
            "image/png": "[encoded data removed]"
          },
          "metadata": {
            "needs_background": "light"
          }
        }
      ]
    },
    {
      "cell_type": "markdown",
      "source": [
        "There are more men than women in our dataset and, apparently, men have a higher income ratio compared to women."
      ],
      "metadata": {
        "id": "9gR5NaSMPFSf"
      }
    },
    {
      "cell_type": "markdown",
      "source": [
        "#### 2. Based on Education"
      ],
      "metadata": {
        "id": "DtvateGoPx7o"
      }
    },
    {
      "cell_type": "code",
      "source": [
        "education = df['education'].value_counts(normalize = True)\n",
        "education = education*100\n",
        "education"
      ],
      "metadata": {
        "colab": {
          "base_uri": "https://localhost:8080/"
        },
        "id": "ITYCWQWLEz7F",
        "outputId": "ef91eb5f-2469-46e2-bd1d-0fa6650bcabe"
      },
      "execution_count": null,
      "outputs": [
        {
          "output_type": "execute_result",
          "data": {
            "text/plain": [
              " HS-grad         32.250238\n",
              " Some-college    22.391818\n",
              " Bachelors       16.446055\n",
              " Masters          5.291607\n",
              " Assoc-voc        4.244341\n",
              " 11th             3.608612\n",
              " Assoc-acdm       3.276926\n",
              " 10th             2.865391\n",
              " 7th-8th          1.983969\n",
              " Prof-school      1.768987\n",
              " 9th              1.578576\n",
              " 12th             1.329812\n",
              " Doctorate        1.268389\n",
              " 5th-6th          1.022696\n",
              " 1st-4th          0.515955\n",
              " Preschool        0.156629\n",
              "Name: education, dtype: float64"
            ]
          },
          "metadata": {},
          "execution_count": 9
        }
      ]
    },
    {
      "cell_type": "code",
      "source": [
        "sns.barplot(education.values,education.index,palette = 'mako')\n",
        "\n",
        "plt.title(\"Eduction\")\n",
        "plt.xlabel(\"number os peoples\",fontsize = 12)\n",
        "plt.ylabel('type of educaion',fontsize = 12)\n",
        "plt.tick_params(labelsize = 12)\n",
        "plt.show()\n"
      ],
      "metadata": {
        "colab": {
          "base_uri": "https://localhost:8080/",
          "height": 358
        },
        "id": "LCNdsS6lRJ13",
        "outputId": "fe448cb4-d41a-482c-96ac-bbf36e931cd8"
      },
      "execution_count": null,
      "outputs": [
        {
          "output_type": "stream",
          "name": "stderr",
          "text": [
            "/usr/local/lib/python3.8/dist-packages/seaborn/_decorators.py:36: FutureWarning: Pass the following variables as keyword args: x, y. From version 0.12, the only valid positional argument will be `data`, and passing other arguments without an explicit keyword will result in an error or misinterpretation.\n",
            "  warnings.warn(\n"
          ]
        },
        {
          "output_type": "display_data",
          "data": {
            "text/plain": [
              "<Figure size 432x288 with 1 Axes>"
            ],
            "image/png": "[encoded data removed]"
          },
          "metadata": {
            "needs_background": "light"
          }
        }
      ]
    },
    {
      "cell_type": "markdown",
      "source": [
        "**Here we see that the majority of people have completed HS-Grad, College or Bachelors**"
      ],
      "metadata": {
        "id": "3XpRgW-xSwUG"
      }
    },
    {
      "cell_type": "markdown",
      "source": [
        "#### 3. Based on Marital Status"
      ],
      "metadata": {
        "id": "8NfQCKd6S-eQ"
      }
    },
    {
      "cell_type": "code",
      "source": [
        "df['marital-status'].value_counts(normalize = True)*100"
      ],
      "metadata": {
        "colab": {
          "base_uri": "https://localhost:8080/"
        },
        "id": "s43GiFkoR3ao",
        "outputId": "be16ff86-05bb-4d70-e366-f8641a06bf57"
      },
      "execution_count": null,
      "outputs": [
        {
          "output_type": "execute_result",
          "data": {
            "text/plain": [
              " Married-civ-spouse       45.993673\n",
              " Never-married            32.809189\n",
              " Divorced                 13.645158\n",
              " Separated                 3.147938\n",
              " Widowed                   3.049661\n",
              " Married-spouse-absent     1.283744\n",
              " Married-AF-spouse         0.070637\n",
              "Name: marital-status, dtype: float64"
            ]
          },
          "metadata": {},
          "execution_count": 11
        }
      ]
    },
    {
      "cell_type": "code",
      "source": [
        "Marital_Status = df['marital-status'].value_counts(normalize = True)*100\n",
        "\n",
        "sns.barplot(Marital_Status.values,Marital_Status.index,palette = 'mako')\n",
        "\n",
        "plt.xlabel(\"number of people \",fontsize = 12)\n",
        "plt.ylabel(\"Type of Marital_Status\",fontsize = 12)\n",
        "plt.title(\"Marital_Status\")\n",
        "plt.tick_params(labelsize = 12)\n",
        "plt.show()"
      ],
      "metadata": {
        "colab": {
          "base_uri": "https://localhost:8080/",
          "height": 358
        },
        "id": "gcPfKykwTdiu",
        "outputId": "c0e4aecf-471f-4cd6-9c5f-54b3911ff090"
      },
      "execution_count": null,
      "outputs": [
        {
          "output_type": "stream",
          "name": "stderr",
          "text": [
            "/usr/local/lib/python3.8/dist-packages/seaborn/_decorators.py:36: FutureWarning: Pass the following variables as keyword args: x, y. From version 0.12, the only valid positional argument will be `data`, and passing other arguments without an explicit keyword will result in an error or misinterpretation.\n",
            "  warnings.warn(\n"
          ]
        },
        {
          "output_type": "display_data",
          "data": {
            "text/plain": [
              "<Figure size 432x288 with 1 Axes>"
            ],
            "image/png": "[encoded data removed]"
          },
          "metadata": {
            "needs_background": "light"
          }
        }
      ]
    },
    {
      "cell_type": "markdown",
      "source": [
        "### 4. Based on Ages"
      ],
      "metadata": {
        "id": "XwnTxSbEUwCQ"
      }
    },
    {
      "cell_type": "code",
      "source": [
        "df['age'].value_counts(normalize = True)*100"
      ],
      "metadata": {
        "colab": {
          "base_uri": "https://localhost:8080/"
        },
        "id": "WOnNO0RMUit2",
        "outputId": "362e1550-1da8-4c94-e900-db3b457d5754"
      },
      "execution_count": null,
      "outputs": [
        {
          "output_type": "execute_result",
          "data": {
            "text/plain": [
              "36    2.757901\n",
              "31    2.727189\n",
              "34    2.721047\n",
              "23    2.693406\n",
              "35    2.690335\n",
              "        ...   \n",
              "83    0.018427\n",
              "88    0.009213\n",
              "85    0.009213\n",
              "86    0.003071\n",
              "87    0.003071\n",
              "Name: age, Length: 73, dtype: float64"
            ]
          },
          "metadata": {},
          "execution_count": 13
        }
      ]
    },
    {
      "cell_type": "code",
      "source": [
        "plt.figure(figsize=(12,4))\n",
        "\n",
        "sns.distplot(df['age'])\n",
        "plt.ticklabel_format(style='scientific', axis='x') #repressing scientific notation on x\n",
        "plt.ylabel('# of People')\n",
        "plt.show()"
      ],
      "metadata": {
        "colab": {
          "base_uri": "https://localhost:8080/",
          "height": 336
        },
        "id": "T895Q0tSU59t",
        "outputId": "ff68d898-44ce-46a5-ba92-43ef80dbf2b2"
      },
      "execution_count": null,
      "outputs": [
        {
          "output_type": "stream",
          "name": "stderr",
          "text": [
            "/usr/local/lib/python3.8/dist-packages/seaborn/distributions.py:2619: FutureWarning: `distplot` is a deprecated function and will be removed in a future version. Please adapt your code to use either `displot` (a figure-level function with similar flexibility) or `histplot` (an axes-level function for histograms).\n",
            "  warnings.warn(msg, FutureWarning)\n"
          ]
        },
        {
          "output_type": "display_data",
          "data": {
            "text/plain": [
              "<Figure size 864x288 with 1 Axes>"
            ],
            "image/png": "[encoded data removed]"
          },
          "metadata": {
            "needs_background": "light"
          }
        }
      ]
    },
    {
      "cell_type": "markdown",
      "source": [
        "#### 5. Based on Race"
      ],
      "metadata": {
        "id": "_tyArRTz3HSK"
      }
    },
    {
      "cell_type": "code",
      "source": [
        "df['race'].value_counts(normalize = True)*100"
      ],
      "metadata": {
        "colab": {
          "base_uri": "https://localhost:8080/"
        },
        "id": "gIfGOgQX23Ny",
        "outputId": "507dbc16-3fb4-42bb-889f-65ae27cb742d"
      },
      "execution_count": null,
      "outputs": [
        {
          "output_type": "execute_result",
          "data": {
            "text/plain": [
              " White                 85.427352\n",
              " Black                  9.594300\n",
              " Asian-Pac-Islander     3.190934\n",
              " Amer-Indian-Eskimo     0.955130\n",
              " Other                  0.832284\n",
              "Name: race, dtype: float64"
            ]
          },
          "metadata": {},
          "execution_count": 15
        }
      ]
    },
    {
      "cell_type": "code",
      "source": [
        "plt.figure(figsize = (12,4))\n",
        "\n",
        "sns.countplot(data = df,x = 'race',hue = 'salary',palette = 'cubehelix')\n",
        "plt.title(\"Race Basec on Salary\")\n",
        "plt.xlabel('Race based on income',fontsize = 12)\n",
        "plt.ylabel(\"Total number\",fontsize = 12)\n",
        "plt.show()"
      ],
      "metadata": {
        "colab": {
          "base_uri": "https://localhost:8080/",
          "height": 298
        },
        "id": "UqHIEHnS3UFR",
        "outputId": "422a87f5-df01-4801-9e5c-6fb8b7368cbf"
      },
      "execution_count": null,
      "outputs": [
        {
          "output_type": "display_data",
          "data": {
            "text/plain": [
              "<Figure size 864x288 with 1 Axes>"
            ],
            "image/png": "[encoded data removed]"
          },
          "metadata": {
            "needs_background": "light"
          }
        }
      ]
    },
    {
      "cell_type": "markdown",
      "source": [
        "#### 85.4% people are white"
      ],
      "metadata": {
        "id": "ACrqArRo45eD"
      }
    },
    {
      "cell_type": "markdown",
      "source": [
        "### 6. Salary With Respect to Education"
      ],
      "metadata": {
        "id": "mV8mj0ZS5DqY"
      }
    },
    {
      "cell_type": "code",
      "source": [
        "plt.style.use('seaborn')\n",
        "plt.figure(figsize = (12,4))\n",
        "\n",
        "sns.countplot(df['education'],hue = df['salary'],palette = 'Blues')\n",
        "plt.title('Distribution of Salary with respect to Education')\n",
        "plt.xlabel('Education')\n",
        "plt.xticks(rotation='vertical')\n",
        "plt.ylabel('Number of people')\n",
        "plt.tick_params(labelsize = 12)\n",
        "plt.legend(loc = 1,prop = {'size' : 15})\n",
        "plt.show()"
      ],
      "metadata": {
        "colab": {
          "base_uri": "https://localhost:8080/",
          "height": 417
        },
        "id": "JBhyAsHB4xPP",
        "outputId": "fb8f8c43-109e-4cef-f15d-0d64c25a0211"
      },
      "execution_count": null,
      "outputs": [
        {
          "output_type": "stream",
          "name": "stderr",
          "text": [
            "/usr/local/lib/python3.8/dist-packages/seaborn/_decorators.py:36: FutureWarning: Pass the following variable as a keyword arg: x. From version 0.12, the only valid positional argument will be `data`, and passing other arguments without an explicit keyword will result in an error or misinterpretation.\n",
            "  warnings.warn(\n"
          ]
        },
        {
          "output_type": "display_data",
          "data": {
            "text/plain": [
              "<Figure size 864x288 with 1 Axes>"
            ],
            "image/png": "[encoded data removed]"
          },
          "metadata": {}
        }
      ]
    },
    {
      "cell_type": "markdown",
      "source": [
        "### 8. Salary with respect to Marital Status"
      ],
      "metadata": {
        "id": "qvp2WiBX-P-2"
      }
    },
    {
      "cell_type": "code",
      "source": [
        "plt.style.use('seaborn')\n",
        "plt.figure(figsize = (12,9))\n",
        "sns.countplot(df['marital-status'],hue = df['salary'],palette = 'vlag')\n",
        "\n",
        "plt.title('Distribution of Salary with respect to Marital_Status')\n",
        "plt.xlabel('Marital_Status as per the Salary',fontsize = 12)\n",
        "plt.ylabel('Number of martial',fontsize = 12)\n",
        "plt.tick_params(labelsize = 12)\n",
        "plt.legend(loc= 1,prop = {'size' : 15})\n",
        "plt.show()\n"
      ],
      "metadata": {
        "colab": {
          "base_uri": "https://localhost:8080/",
          "height": 627
        },
        "id": "8ZJlFedq5pDn",
        "outputId": "103771cd-8c58-463f-98c9-837f8b2b7fe7"
      },
      "execution_count": null,
      "outputs": [
        {
          "output_type": "stream",
          "name": "stderr",
          "text": [
            "/usr/local/lib/python3.8/dist-packages/seaborn/_decorators.py:36: FutureWarning: Pass the following variable as a keyword arg: x. From version 0.12, the only valid positional argument will be `data`, and passing other arguments without an explicit keyword will result in an error or misinterpretation.\n",
            "  warnings.warn(\n"
          ]
        },
        {
          "output_type": "display_data",
          "data": {
            "text/plain": [
              "<Figure size 864x648 with 1 Axes>"
            ],
            "image/png": "[encoded data removed]"
          },
          "metadata": {}
        }
      ]
    },
    {
      "cell_type": "markdown",
      "source": [
        "#### 9. Average Hours per Week"
      ],
      "metadata": {
        "id": "oXLLOgZiAMJO"
      }
    },
    {
      "cell_type": "code",
      "source": [
        "plt.figure(figsize = (12,7))\n",
        "\n",
        "sns.distplot(df['hours-per-week'])\n",
        "plt.tick_params(labelsize = 12)\n",
        "plt.show()"
      ],
      "metadata": {
        "colab": {
          "base_uri": "https://localhost:8080/",
          "height": 504
        },
        "id": "kbBfyvNX79ZV",
        "outputId": "24a5a847-2fa3-49fc-cd66-c96cc8646d69"
      },
      "execution_count": null,
      "outputs": [
        {
          "output_type": "stream",
          "name": "stderr",
          "text": [
            "/usr/local/lib/python3.8/dist-packages/seaborn/distributions.py:2619: FutureWarning: `distplot` is a deprecated function and will be removed in a future version. Please adapt your code to use either `displot` (a figure-level function with similar flexibility) or `histplot` (an axes-level function for histograms).\n",
            "  warnings.warn(msg, FutureWarning)\n"
          ]
        },
        {
          "output_type": "display_data",
          "data": {
            "text/plain": [
              "<Figure size 864x504 with 1 Axes>"
            ],
            "image/png": "[encoded data removed]"
          },
          "metadata": {}
        }
      ]
    },
    {
      "cell_type": "code",
      "source": [
        "df[\"hours-per-week\"].mean()"
      ],
      "metadata": {
        "colab": {
          "base_uri": "https://localhost:8080/"
        },
        "id": "-2K3c_Xu79cD",
        "outputId": "e0e63f59-4d57-4581-adf9-50983d5b491b"
      },
      "execution_count": null,
      "outputs": [
        {
          "output_type": "execute_result",
          "data": {
            "text/plain": [
              "40.437455852092995"
            ]
          },
          "metadata": {},
          "execution_count": 20
        }
      ]
    },
    {
      "cell_type": "markdown",
      "source": [
        "Seems that the average Hours per week put by an individual is 40"
      ],
      "metadata": {
        "id": "5aBjw0cvBze3"
      }
    },
    {
      "cell_type": "markdown",
      "source": [
        "#### 10. Occupation"
      ],
      "metadata": {
        "id": "XIbqd8JtB2O3"
      }
    },
    {
      "cell_type": "code",
      "source": [
        "plt.style.use('seaborn')\n",
        "plt.figure(figsize=(12,9))\n",
        "sns.countplot(df['occupation'],\n",
        "              hue=df['salary'], palette='Blues')\n",
        "plt.title('Distribution of Income with respect to Occupation')\n",
        "plt.xlabel('Occupation',fontsize = 16)\n",
        "plt.xticks(rotation = 'vertical',fontsize = 35)\n",
        "plt.ylabel('Number of people',fontsize = 16)\n",
        "plt.tick_params(labelsize=12)\n",
        "plt.legend(loc=1, prop={'size': 15})\n",
        "plt.show()"
      ],
      "metadata": {
        "colab": {
          "base_uri": "https://localhost:8080/",
          "height": 719
        },
        "id": "9d4GtcYz79fn",
        "outputId": "74b242d9-c06e-4b07-df30-dae248d37de0"
      },
      "execution_count": null,
      "outputs": [
        {
          "output_type": "stream",
          "name": "stderr",
          "text": [
            "/usr/local/lib/python3.8/dist-packages/seaborn/_decorators.py:36: FutureWarning: Pass the following variable as a keyword arg: x. From version 0.12, the only valid positional argument will be `data`, and passing other arguments without an explicit keyword will result in an error or misinterpretation.\n",
            "  warnings.warn(\n"
          ]
        },
        {
          "output_type": "display_data",
          "data": {
            "text/plain": [
              "<Figure size 864x648 with 1 Axes>"
            ],
            "image/png": "[encoded data removed]"
          },
          "metadata": {}
        }
      ]
    },
    {
      "cell_type": "markdown",
      "source": [
        "#### **** ************ **** *    * * * * * * * * * * * * * * * * * * * * * * * * * * * * * * "
      ],
      "metadata": {
        "id": "gUhamTVKD0X8"
      }
    },
    {
      "cell_type": "code",
      "source": [
        "df = df.replace(' ?', np.nan)"
      ],
      "metadata": {
        "id": "NcVijprU79im"
      },
      "execution_count": null,
      "outputs": []
    },
    {
      "cell_type": "code",
      "source": [
        "df.isin([' ?']).sum()"
      ],
      "metadata": {
        "colab": {
          "base_uri": "https://localhost:8080/"
        },
        "id": "PJ6czKnV79lu",
        "outputId": "69d21471-89af-42d3-f123-34760a426576"
      },
      "execution_count": null,
      "outputs": [
        {
          "output_type": "execute_result",
          "data": {
            "text/plain": [
              "age               0\n",
              "workclass         0\n",
              "fnlwgt            0\n",
              "education         0\n",
              "education-num     0\n",
              "marital-status    0\n",
              "occupation        0\n",
              "relationship      0\n",
              "race              0\n",
              "sex               0\n",
              "capital-gain      0\n",
              "capital-loss      0\n",
              "hours-per-week    0\n",
              "country           0\n",
              "salary            0\n",
              "dtype: int64"
            ]
          },
          "metadata": {},
          "execution_count": 23
        }
      ]
    },
    {
      "cell_type": "code",
      "source": [
        "column_object = df.select_dtypes(include = 'object').columns"
      ],
      "metadata": {
        "id": "n4v5NLP3I_i5"
      },
      "execution_count": null,
      "outputs": []
    },
    {
      "cell_type": "code",
      "source": [
        "for i in column_object:\n",
        "  df[i] = df[i].str.strip()"
      ],
      "metadata": {
        "id": "ydd1YvjyI_bp"
      },
      "execution_count": null,
      "outputs": []
    },
    {
      "cell_type": "code",
      "source": [
        "df[\"workclass\"] = df[\"workclass\"].replace(np.nan,df[\"workclass\"].mode()[0])\n",
        "df[\"occupation\"] = df[\"occupation\"].replace(np.nan,df[\"occupation\"].mode()[0])\n",
        "df[\"country\"] = df[\"country\"].replace(np.nan,df[\"country\"].mode()[0])"
      ],
      "metadata": {
        "id": "nIuqJs_279pm"
      },
      "execution_count": null,
      "outputs": []
    },
    {
      "cell_type": "code",
      "source": [
        "df.isna().sum()"
      ],
      "metadata": {
        "colab": {
          "base_uri": "https://localhost:8080/"
        },
        "id": "i1rhQafE79ui",
        "outputId": "9223b822-7849-496e-d4a8-a761fe681327"
      },
      "execution_count": null,
      "outputs": [
        {
          "output_type": "execute_result",
          "data": {
            "text/plain": [
              "age               0\n",
              "workclass         0\n",
              "fnlwgt            0\n",
              "education         0\n",
              "education-num     0\n",
              "marital-status    0\n",
              "occupation        0\n",
              "relationship      0\n",
              "race              0\n",
              "sex               0\n",
              "capital-gain      0\n",
              "capital-loss      0\n",
              "hours-per-week    0\n",
              "country           0\n",
              "salary            0\n",
              "dtype: int64"
            ]
          },
          "metadata": {},
          "execution_count": 27
        }
      ]
    },
    {
      "cell_type": "code",
      "source": [
        "df.info()"
      ],
      "metadata": {
        "colab": {
          "base_uri": "https://localhost:8080/"
        },
        "id": "DGIXSe-FEbMS",
        "outputId": "593f55ec-b982-4ef1-9d3c-fa39d4784054"
      },
      "execution_count": null,
      "outputs": [
        {
          "output_type": "stream",
          "name": "stdout",
          "text": [
            "<class 'pandas.core.frame.DataFrame'>\n",
            "RangeIndex: 32561 entries, 0 to 32560\n",
            "Data columns (total 15 columns):\n",
            " #   Column          Non-Null Count  Dtype \n",
            "---  ------          --------------  ----- \n",
            " 0   age             32561 non-null  int64 \n",
            " 1   workclass       32561 non-null  object\n",
            " 2   fnlwgt          32561 non-null  int64 \n",
            " 3   education       32561 non-null  object\n",
            " 4   education-num   32561 non-null  int64 \n",
            " 5   marital-status  32561 non-null  object\n",
            " 6   occupation      32561 non-null  object\n",
            " 7   relationship    32561 non-null  object\n",
            " 8   race            32561 non-null  object\n",
            " 9   sex             32561 non-null  object\n",
            " 10  capital-gain    32561 non-null  int64 \n",
            " 11  capital-loss    32561 non-null  int64 \n",
            " 12  hours-per-week  32561 non-null  int64 \n",
            " 13  country         32561 non-null  object\n",
            " 14  salary          32561 non-null  object\n",
            "dtypes: int64(6), object(9)\n",
            "memory usage: 3.7+ MB\n"
          ]
        }
      ]
    },
    {
      "cell_type": "code",
      "source": [
        "from sklearn.preprocessing import LabelEncoder\n",
        "le = LabelEncoder()\n",
        "df['salary'] = le.fit_transform(df['salary'])"
      ],
      "metadata": {
        "id": "lIzvBQRHIaNA"
      },
      "execution_count": null,
      "outputs": []
    },
    {
      "cell_type": "code",
      "source": [
        "from sklearn.preprocessing import LabelEncoder\n",
        "for col in df.columns:\n",
        "    if df[col].dtypes == 'object':\n",
        "        le = LabelEncoder()\n",
        "        \n",
        "        df[col] = le.fit_transform(df[col])"
      ],
      "metadata": {
        "id": "XFUZ5S4bPNad"
      },
      "execution_count": null,
      "outputs": []
    },
    {
      "cell_type": "code",
      "source": [
        "df.corr()"
      ],
      "metadata": {
        "colab": {
          "base_uri": "https://localhost:8080/",
          "height": 653
        },
        "id": "ybK-2xgBPQjl",
        "outputId": "2b4d293d-7aeb-4dac-f7e4-93871b972365"
      },
      "execution_count": null,
      "outputs": [
        {
          "output_type": "execute_result",
          "data": {
            "text/plain": [
              "                     age  workclass    fnlwgt  education  education-num  \\\n",
              "age             1.000000   0.040504 -0.076646  -0.010508       0.036527   \n",
              "workclass       0.040504   1.000000 -0.024338   0.004874       0.003536   \n",
              "fnlwgt         -0.076646  -0.024338  1.000000  -0.028145      -0.043195   \n",
              "education      -0.010508   0.004874 -0.028145   1.000000       0.359153   \n",
              "education-num   0.036527   0.003536 -0.043195   0.359153       1.000000   \n",
              "marital-status -0.266288  -0.020468  0.028153  -0.038407      -0.069304   \n",
              "occupation      0.001739   0.007110  0.000188  -0.041279       0.070954   \n",
              "relationship   -0.263698  -0.057947  0.008931  -0.010876      -0.094153   \n",
              "race            0.028718   0.048350 -0.021291   0.014131       0.031838   \n",
              "sex             0.088832   0.071584  0.026858  -0.027356       0.012280   \n",
              "capital-gain    0.077674   0.031505  0.000432   0.030046       0.122630   \n",
              "capital-loss    0.057775   0.002644 -0.010252   0.016746       0.079923   \n",
              "hours-per-week  0.068756   0.042199 -0.018768   0.055510       0.148123   \n",
              "country        -0.000270  -0.001625 -0.063286   0.076060       0.088894   \n",
              "salary          0.234037   0.002693 -0.009463   0.079317       0.335154   \n",
              "\n",
              "                marital-status  occupation  relationship      race       sex  \\\n",
              "age                  -0.266288    0.001739     -0.263698  0.028718  0.088832   \n",
              "workclass            -0.020468    0.007110     -0.057947  0.048350  0.071584   \n",
              "fnlwgt                0.028153    0.000188      0.008931 -0.021291  0.026858   \n",
              "education            -0.038407   -0.041279     -0.010876  0.014131 -0.027356   \n",
              "education-num        -0.069304    0.070954     -0.094153  0.031838  0.012280   \n",
              "marital-status        1.000000    0.034962      0.185451 -0.068013 -0.129314   \n",
              "occupation            0.034962    1.000000     -0.037451 -0.004839  0.047461   \n",
              "relationship          0.185451   -0.037451      1.000000 -0.116055 -0.582454   \n",
              "race                 -0.068013   -0.004839     -0.116055  1.000000  0.087204   \n",
              "sex                  -0.129314    0.047461     -0.582454  0.087204  1.000000   \n",
              "capital-gain         -0.043393    0.018021     -0.057919  0.011145  0.048480   \n",
              "capital-loss         -0.034187    0.009680     -0.061062  0.018899  0.045567   \n",
              "hours-per-week       -0.190519   -0.012879     -0.248974  0.041910  0.229309   \n",
              "country              -0.021278   -0.002217     -0.010712  0.116529  0.002061   \n",
              "salary               -0.199307    0.034625     -0.250918  0.071846  0.215980   \n",
              "\n",
              "                capital-gain  capital-loss  hours-per-week   country    salary  \n",
              "age                 0.077674      0.057775        0.068756 -0.000270  0.234037  \n",
              "workclass           0.031505      0.002644        0.042199 -0.001625  0.002693  \n",
              "fnlwgt              0.000432     -0.010252       -0.018768 -0.063286 -0.009463  \n",
              "education           0.030046      0.016746        0.055510  0.076060  0.079317  \n",
              "education-num       0.122630      0.079923        0.148123  0.088894  0.335154  \n",
              "marital-status     -0.043393     -0.034187       -0.190519 -0.021278 -0.199307  \n",
              "occupation          0.018021      0.009680       -0.012879 -0.002217  0.034625  \n",
              "relationship       -0.057919     -0.061062       -0.248974 -0.010712 -0.250918  \n",
              "race                0.011145      0.018899        0.041910  0.116529  0.071846  \n",
              "sex                 0.048480      0.045567        0.229309  0.002061  0.215980  \n",
              "capital-gain        1.000000     -0.031615        0.078409  0.008819  0.223329  \n",
              "capital-loss       -0.031615      1.000000        0.054256  0.009401  0.150526  \n",
              "hours-per-week      0.078409      0.054256        1.000000  0.006592  0.229689  \n",
              "country             0.008819      0.009401        0.006592  1.000000  0.023058  \n",
              "salary              0.223329      0.150526        0.229689  0.023058  1.000000  "
            ],
            "text/html": [
              "\n",
              "  <div id=\"df-feb45674-0621-4cdc-ab4e-1d082367fbfd\">\n",
              "    <div class=\"colab-df-container\">\n",
              "      <div>\n",
              "<style scoped>\n",
              "    .dataframe tbody tr th:only-of-type {\n",
              "        vertical-align: middle;\n",
              "    }\n",
              "\n",
              "    .dataframe tbody tr th {\n",
              "        vertical-align: top;\n",
              "    }\n",
              "\n",
              "    .dataframe thead th {\n",
              "        text-align: right;\n",
              "    }\n",
              "</style>\n",
              "<table border=\"1\" class=\"dataframe\">\n",
              "  <thead>\n",
              "    <tr style=\"text-align: right;\">\n",
              "      <th></th>\n",
              "      <th>age</th>\n",
              "      <th>workclass</th>\n",
              "      <th>fnlwgt</th>\n",
              "      <th>education</th>\n",
              "      <th>education-num</th>\n",
              "      <th>marital-status</th>\n",
              "      <th>occupation</th>\n",
              "      <th>relationship</th>\n",
              "      <th>race</th>\n",
              "      <th>sex</th>\n",
              "      <th>capital-gain</th>\n",
              "      <th>capital-loss</th>\n",
              "      <th>hours-per-week</th>\n",
              "      <th>country</th>\n",
              "      <th>salary</th>\n",
              "    </tr>\n",
              "  </thead>\n",
              "  <tbody>\n",
              "    <tr>\n",
              "      <th>age</th>\n",
              "      <td>1.000000</td>\n",
              "      <td>0.040504</td>\n",
              "      <td>-0.076646</td>\n",
              "      <td>-0.010508</td>\n",
              "      <td>0.036527</td>\n",
              "      <td>-0.266288</td>\n",
              "      <td>0.001739</td>\n",
              "      <td>-0.263698</td>\n",
              "      <td>0.028718</td>\n",
              "      <td>0.088832</td>\n",
              "      <td>0.077674</td>\n",
              "      <td>0.057775</td>\n",
              "      <td>0.068756</td>\n",
              "      <td>-0.000270</td>\n",
              "      <td>0.234037</td>\n",
              "    </tr>\n",
              "    <tr>\n",
              "      <th>workclass</th>\n",
              "      <td>0.040504</td>\n",
              "      <td>1.000000</td>\n",
              "      <td>-0.024338</td>\n",
              "      <td>0.004874</td>\n",
              "      <td>0.003536</td>\n",
              "      <td>-0.020468</td>\n",
              "      <td>0.007110</td>\n",
              "      <td>-0.057947</td>\n",
              "      <td>0.048350</td>\n",
              "      <td>0.071584</td>\n",
              "      <td>0.031505</td>\n",
              "      <td>0.002644</td>\n",
              "      <td>0.042199</td>\n",
              "      <td>-0.001625</td>\n",
              "      <td>0.002693</td>\n",
              "    </tr>\n",
              "    <tr>\n",
              "      <th>fnlwgt</th>\n",
              "      <td>-0.076646</td>\n",
              "      <td>-0.024338</td>\n",
              "      <td>1.000000</td>\n",
              "      <td>-0.028145</td>\n",
              "      <td>-0.043195</td>\n",
              "      <td>0.028153</td>\n",
              "      <td>0.000188</td>\n",
              "      <td>0.008931</td>\n",
              "      <td>-0.021291</td>\n",
              "      <td>0.026858</td>\n",
              "      <td>0.000432</td>\n",
              "      <td>-0.010252</td>\n",
              "      <td>-0.018768</td>\n",
              "      <td>-0.063286</td>\n",
              "      <td>-0.009463</td>\n",
              "    </tr>\n",
              "    <tr>\n",
              "      <th>education</th>\n",
              "      <td>-0.010508</td>\n",
              "      <td>0.004874</td>\n",
              "      <td>-0.028145</td>\n",
              "      <td>1.000000</td>\n",
              "      <td>0.359153</td>\n",
              "      <td>-0.038407</td>\n",
              "      <td>-0.041279</td>\n",
              "      <td>-0.010876</td>\n",
              "      <td>0.014131</td>\n",
              "      <td>-0.027356</td>\n",
              "      <td>0.030046</td>\n",
              "      <td>0.016746</td>\n",
              "      <td>0.055510</td>\n",
              "      <td>0.076060</td>\n",
              "      <td>0.079317</td>\n",
              "    </tr>\n",
              "    <tr>\n",
              "      <th>education-num</th>\n",
              "      <td>0.036527</td>\n",
              "      <td>0.003536</td>\n",
              "      <td>-0.043195</td>\n",
              "      <td>0.359153</td>\n",
              "      <td>1.000000</td>\n",
              "      <td>-0.069304</td>\n",
              "      <td>0.070954</td>\n",
              "      <td>-0.094153</td>\n",
              "      <td>0.031838</td>\n",
              "      <td>0.012280</td>\n",
              "      <td>0.122630</td>\n",
              "      <td>0.079923</td>\n",
              "      <td>0.148123</td>\n",
              "      <td>0.088894</td>\n",
              "      <td>0.335154</td>\n",
              "    </tr>\n",
              "    <tr>\n",
              "      <th>marital-status</th>\n",
              "      <td>-0.266288</td>\n",
              "      <td>-0.020468</td>\n",
              "      <td>0.028153</td>\n",
              "      <td>-0.038407</td>\n",
              "      <td>-0.069304</td>\n",
              "      <td>1.000000</td>\n",
              "      <td>0.034962</td>\n",
              "      <td>0.185451</td>\n",
              "      <td>-0.068013</td>\n",
              "      <td>-0.129314</td>\n",
              "      <td>-0.043393</td>\n",
              "      <td>-0.034187</td>\n",
              "      <td>-0.190519</td>\n",
              "      <td>-0.021278</td>\n",
              "      <td>-0.199307</td>\n",
              "    </tr>\n",
              "    <tr>\n",
              "      <th>occupation</th>\n",
              "      <td>0.001739</td>\n",
              "      <td>0.007110</td>\n",
              "      <td>0.000188</td>\n",
              "      <td>-0.041279</td>\n",
              "      <td>0.070954</td>\n",
              "      <td>0.034962</td>\n",
              "      <td>1.000000</td>\n",
              "      <td>-0.037451</td>\n",
              "      <td>-0.004839</td>\n",
              "      <td>0.047461</td>\n",
              "      <td>0.018021</td>\n",
              "      <td>0.009680</td>\n",
              "      <td>-0.012879</td>\n",
              "      <td>-0.002217</td>\n",
              "      <td>0.034625</td>\n",
              "    </tr>\n",
              "    <tr>\n",
              "      <th>relationship</th>\n",
              "      <td>-0.263698</td>\n",
              "      <td>-0.057947</td>\n",
              "      <td>0.008931</td>\n",
              "      <td>-0.010876</td>\n",
              "      <td>-0.094153</td>\n",
              "      <td>0.185451</td>\n",
              "      <td>-0.037451</td>\n",
              "      <td>1.000000</td>\n",
              "      <td>-0.116055</td>\n",
              "      <td>-0.582454</td>\n",
              "      <td>-0.057919</td>\n",
              "      <td>-0.061062</td>\n",
              "      <td>-0.248974</td>\n",
              "      <td>-0.010712</td>\n",
              "      <td>-0.250918</td>\n",
              "    </tr>\n",
              "    <tr>\n",
              "      <th>race</th>\n",
              "      <td>0.028718</td>\n",
              "      <td>0.048350</td>\n",
              "      <td>-0.021291</td>\n",
              "      <td>0.014131</td>\n",
              "      <td>0.031838</td>\n",
              "      <td>-0.068013</td>\n",
              "      <td>-0.004839</td>\n",
              "      <td>-0.116055</td>\n",
              "      <td>1.000000</td>\n",
              "      <td>0.087204</td>\n",
              "      <td>0.011145</td>\n",
              "      <td>0.018899</td>\n",
              "      <td>0.041910</td>\n",
              "      <td>0.116529</td>\n",
              "      <td>0.071846</td>\n",
              "    </tr>\n",
              "    <tr>\n",
              "      <th>sex</th>\n",
              "      <td>0.088832</td>\n",
              "      <td>0.071584</td>\n",
              "      <td>0.026858</td>\n",
              "      <td>-0.027356</td>\n",
              "      <td>0.012280</td>\n",
              "      <td>-0.129314</td>\n",
              "      <td>0.047461</td>\n",
              "      <td>-0.582454</td>\n",
              "      <td>0.087204</td>\n",
              "      <td>1.000000</td>\n",
              "      <td>0.048480</td>\n",
              "      <td>0.045567</td>\n",
              "      <td>0.229309</td>\n",
              "      <td>0.002061</td>\n",
              "      <td>0.215980</td>\n",
              "    </tr>\n",
              "    <tr>\n",
              "      <th>capital-gain</th>\n",
              "      <td>0.077674</td>\n",
              "      <td>0.031505</td>\n",
              "      <td>0.000432</td>\n",
              "      <td>0.030046</td>\n",
              "      <td>0.122630</td>\n",
              "      <td>-0.043393</td>\n",
              "      <td>0.018021</td>\n",
              "      <td>-0.057919</td>\n",
              "      <td>0.011145</td>\n",
              "      <td>0.048480</td>\n",
              "      <td>1.000000</td>\n",
              "      <td>-0.031615</td>\n",
              "      <td>0.078409</td>\n",
              "      <td>0.008819</td>\n",
              "      <td>0.223329</td>\n",
              "    </tr>\n",
              "    <tr>\n",
              "      <th>capital-loss</th>\n",
              "      <td>0.057775</td>\n",
              "      <td>0.002644</td>\n",
              "      <td>-0.010252</td>\n",
              "      <td>0.016746</td>\n",
              "      <td>0.079923</td>\n",
              "      <td>-0.034187</td>\n",
              "      <td>0.009680</td>\n",
              "      <td>-0.061062</td>\n",
              "      <td>0.018899</td>\n",
              "      <td>0.045567</td>\n",
              "      <td>-0.031615</td>\n",
              "      <td>1.000000</td>\n",
              "      <td>0.054256</td>\n",
              "      <td>0.009401</td>\n",
              "      <td>0.150526</td>\n",
              "    </tr>\n",
              "    <tr>\n",
              "      <th>hours-per-week</th>\n",
              "      <td>0.068756</td>\n",
              "      <td>0.042199</td>\n",
              "      <td>-0.018768</td>\n",
              "      <td>0.055510</td>\n",
              "      <td>0.148123</td>\n",
              "      <td>-0.190519</td>\n",
              "      <td>-0.012879</td>\n",
              "      <td>-0.248974</td>\n",
              "      <td>0.041910</td>\n",
              "      <td>0.229309</td>\n",
              "      <td>0.078409</td>\n",
              "      <td>0.054256</td>\n",
              "      <td>1.000000</td>\n",
              "      <td>0.006592</td>\n",
              "      <td>0.229689</td>\n",
              "    </tr>\n",
              "    <tr>\n",
              "      <th>country</th>\n",
              "      <td>-0.000270</td>\n",
              "      <td>-0.001625</td>\n",
              "      <td>-0.063286</td>\n",
              "      <td>0.076060</td>\n",
              "      <td>0.088894</td>\n",
              "      <td>-0.021278</td>\n",
              "      <td>-0.002217</td>\n",
              "      <td>-0.010712</td>\n",
              "      <td>0.116529</td>\n",
              "      <td>0.002061</td>\n",
              "      <td>0.008819</td>\n",
              "      <td>0.009401</td>\n",
              "      <td>0.006592</td>\n",
              "      <td>1.000000</td>\n",
              "      <td>0.023058</td>\n",
              "    </tr>\n",
              "    <tr>\n",
              "      <th>salary</th>\n",
              "      <td>0.234037</td>\n",
              "      <td>0.002693</td>\n",
              "      <td>-0.009463</td>\n",
              "      <td>0.079317</td>\n",
              "      <td>0.335154</td>\n",
              "      <td>-0.199307</td>\n",
              "      <td>0.034625</td>\n",
              "      <td>-0.250918</td>\n",
              "      <td>0.071846</td>\n",
              "      <td>0.215980</td>\n",
              "      <td>0.223329</td>\n",
              "      <td>0.150526</td>\n",
              "      <td>0.229689</td>\n",
              "      <td>0.023058</td>\n",
              "      <td>1.000000</td>\n",
              "    </tr>\n",
              "  </tbody>\n",
              "</table>\n",
              "</div>\n",
              "      <button class=\"colab-df-convert\" onclick=\"convertToInteractive('df-feb45674-0621-4cdc-ab4e-1d082367fbfd')\"\n",
              "              title=\"Convert this dataframe to an interactive table.\"\n",
              "              style=\"display:none;\">\n",
              "        \n",
              "  <svg xmlns=\"http://www.w3.org/2000/svg\" height=\"24px\"viewBox=\"0 0 24 24\"\n",
              "       width=\"24px\">\n",
              "    <path d=\"M0 0h24v24H0V0z\" fill=\"none\"/>\n",
              "    <path d=\"M18.56 5.44l.94 2.06.94-2.06 2.06-.94-2.06-.94-.94-2.06-.94 2.06-2.06.94zm-11 1L8.5 8.5l.94-2.06 2.06-.94-2.06-.94L8.5 2.5l-.94 2.06-2.06.94zm10 10l.94 2.06.94-2.06 2.06-.94-2.06-.94-.94-2.06-.94 2.06-2.06.94z\"/><path d=\"M17.41 7.96l-1.37-1.37c-.4-.4-.92-.59-1.43-.59-.52 0-1.04.2-1.43.59L10.3 9.45l-7.72 7.72c-.78.78-.78 2.05 0 2.83L4 21.41c.39.39.9.59 1.41.59.51 0 1.02-.2 1.41-.59l7.78-7.78 2.81-2.81c.8-.78.8-2.07 0-2.86zM5.41 20L4 18.59l7.72-7.72 1.47 1.35L5.41 20z\"/>\n",
              "  </svg>\n",
              "      </button>\n",
              "      \n",
              "  <style>\n",
              "    .colab-df-container {\n",
              "      display:flex;\n",
              "      flex-wrap:wrap;\n",
              "      gap: 12px;\n",
              "    }\n",
              "\n",
              "    .colab-df-convert {\n",
              "      background-color: #E8F0FE;\n",
              "      border: none;\n",
              "      border-radius: 50%;\n",
              "      cursor: pointer;\n",
              "      display: none;\n",
              "      fill: #1967D2;\n",
              "      height: 32px;\n",
              "      padding: 0 0 0 0;\n",
              "      width: 32px;\n",
              "    }\n",
              "\n",
              "    .colab-df-convert:hover {\n",
              "      background-color: #E2EBFA;\n",
              "      box-shadow: 0px 1px 2px rgba(60, 64, 67, 0.3), 0px 1px 3px 1px rgba(60, 64, 67, 0.15);\n",
              "      fill: #174EA6;\n",
              "    }\n",
              "\n",
              "    [theme=dark] .colab-df-convert {\n",
              "      background-color: #3B4455;\n",
              "      fill: #D2E3FC;\n",
              "    }\n",
              "\n",
              "    [theme=dark] .colab-df-convert:hover {\n",
              "      background-color: #434B5C;\n",
              "      box-shadow: 0px 1px 3px 1px rgba(0, 0, 0, 0.15);\n",
              "      filter: drop-shadow(0px 1px 2px rgba(0, 0, 0, 0.3));\n",
              "      fill: #FFFFFF;\n",
              "    }\n",
              "  </style>\n",
              "\n",
              "      <script>\n",
              "        const buttonEl =\n",
              "          document.querySelector('#df-feb45674-0621-4cdc-ab4e-1d082367fbfd button.colab-df-convert');\n",
              "        buttonEl.style.display =\n",
              "          google.colab.kernel.accessAllowed ? 'block' : 'none';\n",
              "\n",
              "        async function convertToInteractive(key) {\n",
              "          const element = document.querySelector('#df-feb45674-0621-4cdc-ab4e-1d082367fbfd');\n",
              "          const dataTable =\n",
              "            await google.colab.kernel.invokeFunction('convertToInteractive',\n",
              "                                                     [key], {});\n",
              "          if (!dataTable) return;\n",
              "\n",
              "          const docLinkHtml = 'Like what you see? Visit the ' +\n",
              "            '<a target=\"_blank\" href=https://colab.research.google.com/notebooks/data_table.ipynb>data table notebook</a>'\n",
              "            + ' to learn more about interactive tables.';\n",
              "          element.innerHTML = '';\n",
              "          dataTable['output_type'] = 'display_data';\n",
              "          await google.colab.output.renderOutput(dataTable, element);\n",
              "          const docLink = document.createElement('div');\n",
              "          docLink.innerHTML = docLinkHtml;\n",
              "          element.appendChild(docLink);\n",
              "        }\n",
              "      </script>\n",
              "    </div>\n",
              "  </div>\n",
              "  "
            ]
          },
          "metadata": {},
          "execution_count": 31
        }
      ]
    },
    {
      "cell_type": "code",
      "source": [
        "fig, ax = plt.subplots(figsize=(15, 12))\n",
        "#sns.heatmap(df.corr(),ax = ax, cmap='RdBu', vmin=-1, vmax=1, annot=True)\n",
        "sns.heatmap(df.corr(), cmap='RdBu', vmin=-1, vmax=1, annot=True, \n",
        "            annot_kws={'fontsize':11, 'fontweight':'bold'},\n",
        "           square=True)\n",
        "\n",
        "plt.show()"
      ],
      "metadata": {
        "colab": {
          "base_uri": "https://localhost:8080/",
          "height": 764
        },
        "id": "bdVwg8VPQBt7",
        "outputId": "48c89192-8cd6-4da9-d486-5cf660a639a6"
      },
      "execution_count": null,
      "outputs": [
        {
          "output_type": "display_data",
          "data": {
            "text/plain": [
              "<Figure size 1080x864 with 2 Axes>"
            ],
            "image/png": "[encoded data removed]"
          },
          "metadata": {}
        }
      ]
    },
    {
      "cell_type": "markdown",
      "source": [
        "#### Relationship and sex colmn has are more corelated so we will drop it"
      ],
      "metadata": {
        "id": "bFoMFyDiTmQc"
      }
    },
    {
      "cell_type": "code",
      "source": [
        "df = df.drop(['relationship'],axis = 1)"
      ],
      "metadata": {
        "id": "bLaXcBgZQb-b"
      },
      "execution_count": null,
      "outputs": []
    },
    {
      "cell_type": "code",
      "source": [
        "df.columns"
      ],
      "metadata": {
        "colab": {
          "base_uri": "https://localhost:8080/"
        },
        "id": "enzG_cjnT_FK",
        "outputId": "86434cdc-c066-4e43-a95f-f2079286c170"
      },
      "execution_count": null,
      "outputs": [
        {
          "output_type": "execute_result",
          "data": {
            "text/plain": [
              "Index(['age', 'workclass', 'fnlwgt', 'education', 'education-num',\n",
              "       'marital-status', 'occupation', 'race', 'sex', 'capital-gain',\n",
              "       'capital-loss', 'hours-per-week', 'country', 'salary'],\n",
              "      dtype='object')"
            ]
          },
          "metadata": {},
          "execution_count": 34
        }
      ]
    },
    {
      "cell_type": "markdown",
      "source": [
        "## feature scaling"
      ],
      "metadata": {
        "id": "zQuxqsbpUWM7"
      }
    },
    {
      "cell_type": "code",
      "source": [
        "X = df.drop(\"salary\",axis=1)\n",
        "y = df.salary"
      ],
      "metadata": {
        "id": "xAV1a3c2UCi6"
      },
      "execution_count": null,
      "outputs": []
    },
    {
      "cell_type": "code",
      "source": [
        "from sklearn.preprocessing import StandardScaler\n",
        "scaler =StandardScaler()\n",
        "X = scaler.fit_transform(X)"
      ],
      "metadata": {
        "id": "9ENOLkjPUfCo"
      },
      "execution_count": null,
      "outputs": []
    },
    {
      "cell_type": "code",
      "source": [
        "pd.DataFrame(X,index = df.index,columns = df.columns[:-1])"
      ],
      "metadata": {
        "colab": {
          "base_uri": "https://localhost:8080/",
          "height": 485
        },
        "id": "tRzqd5IXUjDZ",
        "outputId": "99294824-d0b5-4302-c239-e3dbbd63802c"
      },
      "execution_count": null,
      "outputs": [
        {
          "output_type": "execute_result",
          "data": {
            "text/plain": [
              "            age  workclass    fnlwgt  education  education-num  \\\n",
              "0      0.030671   2.624298 -1.063611  -0.335437       1.134739   \n",
              "1      0.837109   1.721100 -1.008707  -0.335437       1.134739   \n",
              "2     -0.042642  -0.085296  0.245079   0.181332      -0.420060   \n",
              "3      1.057047  -0.085296  0.425801  -2.402511      -1.197459   \n",
              "4     -0.775768  -0.085296  1.408176  -0.335437       1.134739   \n",
              "...         ...        ...       ...        ...            ...   \n",
              "32556 -0.849080  -0.085296  0.639741  -0.852205       0.746039   \n",
              "32557  0.103983  -0.085296 -0.335433   0.181332      -0.420060   \n",
              "32558  1.423610  -0.085296 -0.358777   0.181332      -0.420060   \n",
              "32559 -1.215643  -0.085296  0.110960   0.181332      -0.420060   \n",
              "32560  0.983734   0.817902  0.929893   0.181332      -0.420060   \n",
              "\n",
              "       marital-status  occupation      race       sex  capital-gain  \\\n",
              "0            0.921634   -1.545256  0.393668  0.703071      0.148453   \n",
              "1           -0.406212   -0.790092  0.393668  0.703071     -0.145920   \n",
              "2           -1.734058   -0.286649  0.393668  0.703071     -0.145920   \n",
              "3           -0.406212   -0.286649 -1.962621  0.703071     -0.145920   \n",
              "4           -0.406212    0.720237 -1.962621 -1.422331     -0.145920   \n",
              "...               ...         ...       ...       ...           ...   \n",
              "32556       -0.406212    1.475401  0.393668 -1.422331     -0.145920   \n",
              "32557       -0.406212   -0.034928  0.393668  0.703071     -0.145920   \n",
              "32558        2.249480   -1.545256  0.393668 -1.422331     -0.145920   \n",
              "32559        0.921634   -1.545256  0.393668  0.703071     -0.145920   \n",
              "32560       -0.406212   -0.790092  0.393668 -1.422331      1.888424   \n",
              "\n",
              "       capital-loss  hours-per-week  country  \n",
              "0          -0.21666       -0.035429  0.26137  \n",
              "1          -0.21666       -2.222153  0.26137  \n",
              "2          -0.21666       -0.035429  0.26137  \n",
              "3          -0.21666       -0.035429  0.26137  \n",
              "4          -0.21666       -0.035429 -5.35294  \n",
              "...             ...             ...      ...  \n",
              "32556      -0.21666       -0.197409  0.26137  \n",
              "32557      -0.21666       -0.035429  0.26137  \n",
              "32558      -0.21666       -0.035429  0.26137  \n",
              "32559      -0.21666       -1.655225  0.26137  \n",
              "32560      -0.21666       -0.035429  0.26137  \n",
              "\n",
              "[32561 rows x 13 columns]"
            ],
            "text/html": [
              "\n",
              "  <div id=\"df-36f826da-9379-4fc8-af68-940575f6c088\">\n",
              "    <div class=\"colab-df-container\">\n",
              "      <div>\n",
              "<style scoped>\n",
              "    .dataframe tbody tr th:only-of-type {\n",
              "        vertical-align: middle;\n",
              "    }\n",
              "\n",
              "    .dataframe tbody tr th {\n",
              "        vertical-align: top;\n",
              "    }\n",
              "\n",
              "    .dataframe thead th {\n",
              "        text-align: right;\n",
              "    }\n",
              "</style>\n",
              "<table border=\"1\" class=\"dataframe\">\n",
              "  <thead>\n",
              "    <tr style=\"text-align: right;\">\n",
              "      <th></th>\n",
              "      <th>age</th>\n",
              "      <th>workclass</th>\n",
              "      <th>fnlwgt</th>\n",
              "      <th>education</th>\n",
              "      <th>education-num</th>\n",
              "      <th>marital-status</th>\n",
              "      <th>occupation</th>\n",
              "      <th>race</th>\n",
              "      <th>sex</th>\n",
              "      <th>capital-gain</th>\n",
              "      <th>capital-loss</th>\n",
              "      <th>hours-per-week</th>\n",
              "      <th>country</th>\n",
              "    </tr>\n",
              "  </thead>\n",
              "  <tbody>\n",
              "    <tr>\n",
              "      <th>0</th>\n",
              "      <td>0.030671</td>\n",
              "      <td>2.624298</td>\n",
              "      <td>-1.063611</td>\n",
              "      <td>-0.335437</td>\n",
              "      <td>1.134739</td>\n",
              "      <td>0.921634</td>\n",
              "      <td>-1.545256</td>\n",
              "      <td>0.393668</td>\n",
              "      <td>0.703071</td>\n",
              "      <td>0.148453</td>\n",
              "      <td>-0.21666</td>\n",
              "      <td>-0.035429</td>\n",
              "      <td>0.26137</td>\n",
              "    </tr>\n",
              "    <tr>\n",
              "      <th>1</th>\n",
              "      <td>0.837109</td>\n",
              "      <td>1.721100</td>\n",
              "      <td>-1.008707</td>\n",
              "      <td>-0.335437</td>\n",
              "      <td>1.134739</td>\n",
              "      <td>-0.406212</td>\n",
              "      <td>-0.790092</td>\n",
              "      <td>0.393668</td>\n",
              "      <td>0.703071</td>\n",
              "      <td>-0.145920</td>\n",
              "      <td>-0.21666</td>\n",
              "      <td>-2.222153</td>\n",
              "      <td>0.26137</td>\n",
              "    </tr>\n",
              "    <tr>\n",
              "      <th>2</th>\n",
              "      <td>-0.042642</td>\n",
              "      <td>-0.085296</td>\n",
              "      <td>0.245079</td>\n",
              "      <td>0.181332</td>\n",
              "      <td>-0.420060</td>\n",
              "      <td>-1.734058</td>\n",
              "      <td>-0.286649</td>\n",
              "      <td>0.393668</td>\n",
              "      <td>0.703071</td>\n",
              "      <td>-0.145920</td>\n",
              "      <td>-0.21666</td>\n",
              "      <td>-0.035429</td>\n",
              "      <td>0.26137</td>\n",
              "    </tr>\n",
              "    <tr>\n",
              "      <th>3</th>\n",
              "      <td>1.057047</td>\n",
              "      <td>-0.085296</td>\n",
              "      <td>0.425801</td>\n",
              "      <td>-2.402511</td>\n",
              "      <td>-1.197459</td>\n",
              "      <td>-0.406212</td>\n",
              "      <td>-0.286649</td>\n",
              "      <td>-1.962621</td>\n",
              "      <td>0.703071</td>\n",
              "      <td>-0.145920</td>\n",
              "      <td>-0.21666</td>\n",
              "      <td>-0.035429</td>\n",
              "      <td>0.26137</td>\n",
              "    </tr>\n",
              "    <tr>\n",
              "      <th>4</th>\n",
              "      <td>-0.775768</td>\n",
              "      <td>-0.085296</td>\n",
              "      <td>1.408176</td>\n",
              "      <td>-0.335437</td>\n",
              "      <td>1.134739</td>\n",
              "      <td>-0.406212</td>\n",
              "      <td>0.720237</td>\n",
              "      <td>-1.962621</td>\n",
              "      <td>-1.422331</td>\n",
              "      <td>-0.145920</td>\n",
              "      <td>-0.21666</td>\n",
              "      <td>-0.035429</td>\n",
              "      <td>-5.35294</td>\n",
              "    </tr>\n",
              "    <tr>\n",
              "      <th>...</th>\n",
              "      <td>...</td>\n",
              "      <td>...</td>\n",
              "      <td>...</td>\n",
              "      <td>...</td>\n",
              "      <td>...</td>\n",
              "      <td>...</td>\n",
              "      <td>...</td>\n",
              "      <td>...</td>\n",
              "      <td>...</td>\n",
              "      <td>...</td>\n",
              "      <td>...</td>\n",
              "      <td>...</td>\n",
              "      <td>...</td>\n",
              "    </tr>\n",
              "    <tr>\n",
              "      <th>32556</th>\n",
              "      <td>-0.849080</td>\n",
              "      <td>-0.085296</td>\n",
              "      <td>0.639741</td>\n",
              "      <td>-0.852205</td>\n",
              "      <td>0.746039</td>\n",
              "      <td>-0.406212</td>\n",
              "      <td>1.475401</td>\n",
              "      <td>0.393668</td>\n",
              "      <td>-1.422331</td>\n",
              "      <td>-0.145920</td>\n",
              "      <td>-0.21666</td>\n",
              "      <td>-0.197409</td>\n",
              "      <td>0.26137</td>\n",
              "    </tr>\n",
              "    <tr>\n",
              "      <th>32557</th>\n",
              "      <td>0.103983</td>\n",
              "      <td>-0.085296</td>\n",
              "      <td>-0.335433</td>\n",
              "      <td>0.181332</td>\n",
              "      <td>-0.420060</td>\n",
              "      <td>-0.406212</td>\n",
              "      <td>-0.034928</td>\n",
              "      <td>0.393668</td>\n",
              "      <td>0.703071</td>\n",
              "      <td>-0.145920</td>\n",
              "      <td>-0.21666</td>\n",
              "      <td>-0.035429</td>\n",
              "      <td>0.26137</td>\n",
              "    </tr>\n",
              "    <tr>\n",
              "      <th>32558</th>\n",
              "      <td>1.423610</td>\n",
              "      <td>-0.085296</td>\n",
              "      <td>-0.358777</td>\n",
              "      <td>0.181332</td>\n",
              "      <td>-0.420060</td>\n",
              "      <td>2.249480</td>\n",
              "      <td>-1.545256</td>\n",
              "      <td>0.393668</td>\n",
              "      <td>-1.422331</td>\n",
              "      <td>-0.145920</td>\n",
              "      <td>-0.21666</td>\n",
              "      <td>-0.035429</td>\n",
              "      <td>0.26137</td>\n",
              "    </tr>\n",
              "    <tr>\n",
              "      <th>32559</th>\n",
              "      <td>-1.215643</td>\n",
              "      <td>-0.085296</td>\n",
              "      <td>0.110960</td>\n",
              "      <td>0.181332</td>\n",
              "      <td>-0.420060</td>\n",
              "      <td>0.921634</td>\n",
              "      <td>-1.545256</td>\n",
              "      <td>0.393668</td>\n",
              "      <td>0.703071</td>\n",
              "      <td>-0.145920</td>\n",
              "      <td>-0.21666</td>\n",
              "      <td>-1.655225</td>\n",
              "      <td>0.26137</td>\n",
              "    </tr>\n",
              "    <tr>\n",
              "      <th>32560</th>\n",
              "      <td>0.983734</td>\n",
              "      <td>0.817902</td>\n",
              "      <td>0.929893</td>\n",
              "      <td>0.181332</td>\n",
              "      <td>-0.420060</td>\n",
              "      <td>-0.406212</td>\n",
              "      <td>-0.790092</td>\n",
              "      <td>0.393668</td>\n",
              "      <td>-1.422331</td>\n",
              "      <td>1.888424</td>\n",
              "      <td>-0.21666</td>\n",
              "      <td>-0.035429</td>\n",
              "      <td>0.26137</td>\n",
              "    </tr>\n",
              "  </tbody>\n",
              "</table>\n",
              "<p>32561 rows × 13 columns</p>\n",
              "</div>\n",
              "      <button class=\"colab-df-convert\" onclick=\"convertToInteractive('df-36f826da-9379-4fc8-af68-940575f6c088')\"\n",
              "              title=\"Convert this dataframe to an interactive table.\"\n",
              "              style=\"display:none;\">\n",
              "        \n",
              "  <svg xmlns=\"http://www.w3.org/2000/svg\" height=\"24px\"viewBox=\"0 0 24 24\"\n",
              "       width=\"24px\">\n",
              "    <path d=\"M0 0h24v24H0V0z\" fill=\"none\"/>\n",
              "    <path d=\"M18.56 5.44l.94 2.06.94-2.06 2.06-.94-2.06-.94-.94-2.06-.94 2.06-2.06.94zm-11 1L8.5 8.5l.94-2.06 2.06-.94-2.06-.94L8.5 2.5l-.94 2.06-2.06.94zm10 10l.94 2.06.94-2.06 2.06-.94-2.06-.94-.94-2.06-.94 2.06-2.06.94z\"/><path d=\"M17.41 7.96l-1.37-1.37c-.4-.4-.92-.59-1.43-.59-.52 0-1.04.2-1.43.59L10.3 9.45l-7.72 7.72c-.78.78-.78 2.05 0 2.83L4 21.41c.39.39.9.59 1.41.59.51 0 1.02-.2 1.41-.59l7.78-7.78 2.81-2.81c.8-.78.8-2.07 0-2.86zM5.41 20L4 18.59l7.72-7.72 1.47 1.35L5.41 20z\"/>\n",
              "  </svg>\n",
              "      </button>\n",
              "      \n",
              "  <style>\n",
              "    .colab-df-container {\n",
              "      display:flex;\n",
              "      flex-wrap:wrap;\n",
              "      gap: 12px;\n",
              "    }\n",
              "\n",
              "    .colab-df-convert {\n",
              "      background-color: #E8F0FE;\n",
              "      border: none;\n",
              "      border-radius: 50%;\n",
              "      cursor: pointer;\n",
              "      display: none;\n",
              "      fill: #1967D2;\n",
              "      height: 32px;\n",
              "      padding: 0 0 0 0;\n",
              "      width: 32px;\n",
              "    }\n",
              "\n",
              "    .colab-df-convert:hover {\n",
              "      background-color: #E2EBFA;\n",
              "      box-shadow: 0px 1px 2px rgba(60, 64, 67, 0.3), 0px 1px 3px 1px rgba(60, 64, 67, 0.15);\n",
              "      fill: #174EA6;\n",
              "    }\n",
              "\n",
              "    [theme=dark] .colab-df-convert {\n",
              "      background-color: #3B4455;\n",
              "      fill: #D2E3FC;\n",
              "    }\n",
              "\n",
              "    [theme=dark] .colab-df-convert:hover {\n",
              "      background-color: #434B5C;\n",
              "      box-shadow: 0px 1px 3px 1px rgba(0, 0, 0, 0.15);\n",
              "      filter: drop-shadow(0px 1px 2px rgba(0, 0, 0, 0.3));\n",
              "      fill: #FFFFFF;\n",
              "    }\n",
              "  </style>\n",
              "\n",
              "      <script>\n",
              "        const buttonEl =\n",
              "          document.querySelector('#df-36f826da-9379-4fc8-af68-940575f6c088 button.colab-df-convert');\n",
              "        buttonEl.style.display =\n",
              "          google.colab.kernel.accessAllowed ? 'block' : 'none';\n",
              "\n",
              "        async function convertToInteractive(key) {\n",
              "          const element = document.querySelector('#df-36f826da-9379-4fc8-af68-940575f6c088');\n",
              "          const dataTable =\n",
              "            await google.colab.kernel.invokeFunction('convertToInteractive',\n",
              "                                                     [key], {});\n",
              "          if (!dataTable) return;\n",
              "\n",
              "          const docLinkHtml = 'Like what you see? Visit the ' +\n",
              "            '<a target=\"_blank\" href=https://colab.research.google.com/notebooks/data_table.ipynb>data table notebook</a>'\n",
              "            + ' to learn more about interactive tables.';\n",
              "          element.innerHTML = '';\n",
              "          dataTable['output_type'] = 'display_data';\n",
              "          await google.colab.output.renderOutput(dataTable, element);\n",
              "          const docLink = document.createElement('div');\n",
              "          docLink.innerHTML = docLinkHtml;\n",
              "          element.appendChild(docLink);\n",
              "        }\n",
              "      </script>\n",
              "    </div>\n",
              "  </div>\n",
              "  "
            ]
          },
          "metadata": {},
          "execution_count": 44
        }
      ]
    },
    {
      "cell_type": "code",
      "source": [
        "from sklearn.metrics import mean_squared_error\n",
        "from sklearn.model_selection import train_test_split"
      ],
      "metadata": {
        "id": "lai3Z-JI5_81"
      },
      "execution_count": null,
      "outputs": []
    },
    {
      "cell_type": "code",
      "source": [
        "y.value_counts(normalize=True)"
      ],
      "metadata": {
        "colab": {
          "base_uri": "https://localhost:8080/"
        },
        "id": "HiBdgwbU5_5Q",
        "outputId": "1491da2b-3b22-4cda-bc1f-22b29ba6679d"
      },
      "execution_count": null,
      "outputs": [
        {
          "output_type": "execute_result",
          "data": {
            "text/plain": [
              "0    0.75919\n",
              "1    0.24081\n",
              "Name: salary, dtype: float64"
            ]
          },
          "metadata": {},
          "execution_count": 48
        }
      ]
    },
    {
      "cell_type": "markdown",
      "source": [
        "### Dataset is imbalance "
      ],
      "metadata": {
        "id": "3AHZ59Yu6F8S"
      }
    },
    {
      "cell_type": "code",
      "source": [
        "# balancing the skewed data\n",
        "from imblearn.over_sampling import RandomOverSampler \n",
        "rs = RandomOverSampler(random_state=30)"
      ],
      "metadata": {
        "id": "9Tl8Pa_X5_2n"
      },
      "execution_count": null,
      "outputs": []
    },
    {
      "cell_type": "code",
      "source": [
        "rs.fit(X,y)"
      ],
      "metadata": {
        "colab": {
          "base_uri": "https://localhost:8080/"
        },
        "id": "IX61ob3a5_yJ",
        "outputId": "2f62fd1d-4272-4f3d-e5c2-ecae5feec8fa"
      },
      "execution_count": null,
      "outputs": [
        {
          "output_type": "execute_result",
          "data": {
            "text/plain": [
              "RandomOverSampler(random_state=30)"
            ]
          },
          "metadata": {},
          "execution_count": 50
        }
      ]
    },
    {
      "cell_type": "code",
      "source": [
        "X_new,y_new = rs.fit_resample(X, y)\n",
        "y_new.value_counts(normalize=True)"
      ],
      "metadata": {
        "colab": {
          "base_uri": "https://localhost:8080/"
        },
        "id": "F1vU42wd5_uq",
        "outputId": "8686a17c-a777-47e0-8f8c-22d3cfb63343"
      },
      "execution_count": null,
      "outputs": [
        {
          "output_type": "execute_result",
          "data": {
            "text/plain": [
              "0    0.5\n",
              "1    0.5\n",
              "Name: salary, dtype: float64"
            ]
          },
          "metadata": {},
          "execution_count": 51
        }
      ]
    },
    {
      "cell_type": "markdown",
      "source": [
        "## Model Training"
      ],
      "metadata": {
        "id": "iROSlPy86tAz"
      }
    },
    {
      "cell_type": "code",
      "source": [
        "from sklearn.linear_model import LogisticRegression\n",
        "from sklearn.naive_bayes import GaussianNB\n",
        "from sklearn.ensemble import RandomForestClassifier\n",
        "from sklearn.tree import DecisionTreeClassifier\n",
        "from sklearn.svm import SVC\n",
        "from xgboost import XGBClassifier"
      ],
      "metadata": {
        "id": "AbyswKt05_p0"
      },
      "execution_count": null,
      "outputs": []
    },
    {
      "cell_type": "code",
      "source": [
        "X_train, X_test, y_train, y_test = train_test_split(X_new, y_new, test_size=0.2, random_state=30)"
      ],
      "metadata": {
        "id": "6zlg2j-S5_lT"
      },
      "execution_count": null,
      "outputs": []
    },
    {
      "cell_type": "code",
      "source": [
        "print(\"X_train shape:\", X_train.shape)\n",
        "print(\"X_test shape:\", X_test.shape)\n",
        "print(\"y_train shape:\", y_train.shape)\n",
        "print(\"y_test shape:\", y_test.shape)"
      ],
      "metadata": {
        "colab": {
          "base_uri": "https://localhost:8080/"
        },
        "id": "KgX7uld95_iV",
        "outputId": "23af2a63-3442-4ffb-b806-3d1291a18820"
      },
      "execution_count": null,
      "outputs": [
        {
          "output_type": "stream",
          "name": "stdout",
          "text": [
            "X_train shape: (39552, 13)\n",
            "X_test shape: (9888, 13)\n",
            "y_train shape: (39552,)\n",
            "y_test shape: (9888,)\n"
          ]
        }
      ]
    },
    {
      "cell_type": "code",
      "source": [
        "lr = LogisticRegression(solver = \"liblinear\")\n",
        "gn = GaussianNB()\n",
        "rf = RandomForestClassifier()\n",
        "dt = DecisionTreeClassifier()\n",
        "svc = SVC()\n",
        "xgb = XGBClassifier()\n"
      ],
      "metadata": {
        "id": "ztt6wzpD3Oyp"
      },
      "execution_count": null,
      "outputs": []
    },
    {
      "cell_type": "code",
      "source": [
        "#LogisticRegression\n",
        "lr.fit(X_train,y_train)\n",
        "y_pred_lr = lr.predict(X_test)\n",
        "\n",
        "#GaussianNB/ Naive Byers\n",
        "gn.fit(X_train,y_train)\n",
        "y_pred_gn = gn.predict(X_test)\n",
        "\n",
        "#RandomForestClassifier\n",
        "rf.fit(X_train,y_train)\n",
        "y_pred_rf = rf.predict(X_test)\n",
        "\n",
        "#DecisionTreeClassifier\n",
        "dt.fit(X_train,y_train)\n",
        "y_pred_dt = dt.predict(X_test)\n",
        "\n",
        "#SVC\n",
        "svc.fit(X_train,y_train)\n",
        "y_pred_svc = svc.predict(X_test)\n",
        "\n",
        "#XGB\n",
        "xgb.fit(X_train,y_train)\n",
        "y_pred_xgb = xgb.predict(X_test)"
      ],
      "metadata": {
        "id": "LFLVgD8B5c9z"
      },
      "execution_count": null,
      "outputs": []
    },
    {
      "cell_type": "code",
      "source": [
        "from sklearn.metrics import accuracy_score\n",
        "from sklearn.metrics import f1_score\n",
        "from sklearn.metrics import mean_absolute_error"
      ],
      "metadata": {
        "id": "vtdJLmKx7nex"
      },
      "execution_count": null,
      "outputs": []
    },
    {
      "cell_type": "code",
      "source": [
        "print(\"Logistic Regression:\")\n",
        "print(\"Accuracy score:\", round(accuracy_score(y_test, y_pred_lr) * 100, 3))\n",
        "print(\"F1 Score: \", round(f1_score(y_test,y_pred_lr) * 100,3))\n",
        "print(\"MSE: \", round(mean_squared_error(y_test,y_pred_lr) * 100,3))"
      ],
      "metadata": {
        "colab": {
          "base_uri": "https://localhost:8080/"
        },
        "id": "0HTWjKMu8Bhi",
        "outputId": "bd0f43d0-fbbe-4f7f-f5e6-df4f60cc074b"
      },
      "execution_count": null,
      "outputs": [
        {
          "output_type": "stream",
          "name": "stdout",
          "text": [
            "Logistic Regression:\n",
            "Accuracy score: 77.033\n",
            "F1 Score:  76.937\n",
            "MSE:  22.967\n"
          ]
        }
      ]
    },
    {
      "cell_type": "code",
      "source": [
        "print(\"GaussianNB/ Naive Byers:\")\n",
        "print('Accuracy score:', round(accuracy_score(y_test, y_pred_gn) * 100, 3))\n",
        "print(\"F1 Score: \", round(f1_score(y_test,y_pred_gn) * 100,3))\n",
        "print(\"MSE: \", round(mean_squared_error(y_test,y_pred_gn) * 100,3))"
      ],
      "metadata": {
        "colab": {
          "base_uri": "https://localhost:8080/"
        },
        "id": "LccerhbE8r5G",
        "outputId": "b3105e23-584b-4cb5-b9a5-06d44b31f833"
      },
      "execution_count": null,
      "outputs": [
        {
          "output_type": "stream",
          "name": "stdout",
          "text": [
            "GaussianNB/ Naive Byers:\n",
            "Accuracy score: 68.042\n",
            "F1 Score:  56.795\n",
            "MSE:  31.958\n"
          ]
        }
      ]
    },
    {
      "cell_type": "code",
      "source": [
        "print(\"RandomForestClassifier:\")\n",
        "print('Accuracy score:', round(accuracy_score(y_test, y_pred_rf) * 100, 3))\n",
        "print(\"F1 Score: \", round(f1_score(y_test,y_pred_rf) * 100,3))\n",
        "print(\"MSE: \", round(mean_squared_error(y_test,y_pred_rf) * 100,3))"
      ],
      "metadata": {
        "colab": {
          "base_uri": "https://localhost:8080/"
        },
        "id": "d2mKVEWa8vul",
        "outputId": "2f799bed-89c1-47cf-ffff-322011756a52"
      },
      "execution_count": null,
      "outputs": [
        {
          "output_type": "stream",
          "name": "stdout",
          "text": [
            "RandomForestClassifier:\n",
            "Accuracy score: 93.345\n",
            "F1 Score:  93.61\n",
            "MSE:  6.655\n"
          ]
        }
      ]
    },
    {
      "cell_type": "code",
      "source": [
        "print(\"DecisionTreeClassifier:\")\n",
        "print('Accuracy score:', round(accuracy_score(y_test, y_pred_dt) * 100, 3))\n",
        "print(\"F1 Score: \", round(f1_score(y_test,y_pred_dt) * 100,3))\n",
        "print(\"MSE: \", round(mean_squared_error(y_test,y_pred_dt) * 100,3))"
      ],
      "metadata": {
        "colab": {
          "base_uri": "https://localhost:8080/"
        },
        "id": "bj14Xn6C8xwu",
        "outputId": "c769b6ca-3e4c-4c85-a9e1-138cb4a5106f"
      },
      "execution_count": null,
      "outputs": [
        {
          "output_type": "stream",
          "name": "stdout",
          "text": [
            "DecisionTreeClassifier:\n",
            "Accuracy score: 92.152\n",
            "F1 Score:  92.528\n",
            "MSE:  7.848\n"
          ]
        }
      ]
    },
    {
      "cell_type": "code",
      "source": [
        "print(\"Support Vector Machine:\")\n",
        "print('Accuracy score:', round(accuracy_score(y_test, y_pred_svc) * 100, 3))\n",
        "print(\"F1 Score: \", round(f1_score(y_test,y_pred_svc) * 100,3))\n",
        "print(\"MSE: \", round(mean_squared_error(y_test,y_pred_svc) * 100,3))"
      ],
      "metadata": {
        "colab": {
          "base_uri": "https://localhost:8080/"
        },
        "id": "UbLHRe7580qW",
        "outputId": "046dd66b-79d4-47d6-f358-2beb55f5428e"
      },
      "execution_count": null,
      "outputs": [
        {
          "output_type": "stream",
          "name": "stdout",
          "text": [
            "Support Vector Machine:\n",
            "Accuracy score: 83.04\n",
            "F1 Score:  83.892\n",
            "MSE:  16.96\n"
          ]
        }
      ]
    },
    {
      "cell_type": "code",
      "source": [
        "print(\"XGBoost Classifier:\")\n",
        "print('Accuracy score:', round(accuracy_score(y_test, y_pred_xgb) * 100, 3))\n",
        "print(\"F1 Score: \", round(f1_score(y_test,y_pred_xgb) * 100,3))\n",
        "print(\"MSE: \", round(mean_squared_error(y_test,y_pred_xgb) * 100,3))"
      ],
      "metadata": {
        "colab": {
          "base_uri": "https://localhost:8080/"
        },
        "id": "1_YXvYlx86_G",
        "outputId": "2466bb5f-3185-422f-befd-48de44f3e763"
      },
      "execution_count": null,
      "outputs": [
        {
          "output_type": "stream",
          "name": "stdout",
          "text": [
            "XGBoost Classifier:\n",
            "Accuracy score: 84.082\n",
            "F1 Score:  84.59\n",
            "MSE:  15.918\n"
          ]
        }
      ]
    },
    {
      "cell_type": "markdown",
      "source": [
        "## Hyper - Tuning Parameters"
      ],
      "metadata": {
        "id": "t9l9_7iW9ItM"
      }
    },
    {
      "cell_type": "markdown",
      "source": [
        "#### Decision Tree"
      ],
      "metadata": {
        "id": "zYiSQVZK9Ny8"
      }
    },
    {
      "cell_type": "code",
      "source": [
        "from sklearn.model_selection import GridSearchCV\n",
        "\n",
        "#DecisionTreeClassifier\n",
        "\n",
        "params = {\n",
        "    'max_depth': [2, 3, 5, 10, 20],\n",
        "    'min_samples_leaf': [5, 10, 20, 50, 100,150],\n",
        "    'criterion': [\"gini\", \"entropy\"]\n",
        "}\n",
        "\n",
        "grid_search = GridSearchCV(estimator=dt, param_grid=params,cv=5, n_jobs=1, verbose=1, scoring = \"accuracy\")\n",
        "grid_search.fit(X_train, y_train)\n"
      ],
      "metadata": {
        "colab": {
          "base_uri": "https://localhost:8080/"
        },
        "id": "CouhVsHC89_E",
        "outputId": "0169c31e-1a4b-42ce-9caf-1a1d42b4a98b"
      },
      "execution_count": null,
      "outputs": [
        {
          "output_type": "stream",
          "name": "stdout",
          "text": [
            "Fitting 5 folds for each of 60 candidates, totalling 300 fits\n"
          ]
        },
        {
          "output_type": "execute_result",
          "data": {
            "text/plain": [
              "GridSearchCV(cv=5, estimator=DecisionTreeClassifier(), n_jobs=1,\n",
              "             param_grid={'criterion': ['gini', 'entropy'],\n",
              "                         'max_depth': [2, 3, 5, 10, 20],\n",
              "                         'min_samples_leaf': [5, 10, 20, 50, 100, 150]},\n",
              "             scoring='accuracy', verbose=1)"
            ]
          },
          "metadata": {},
          "execution_count": 69
        }
      ]
    },
    {
      "cell_type": "code",
      "source": [
        "grid_search.best_params_"
      ],
      "metadata": {
        "colab": {
          "base_uri": "https://localhost:8080/"
        },
        "id": "tBZw7QWU9HoT",
        "outputId": "6cc9e163-a85c-4e89-edcc-a7c67aa63c27"
      },
      "execution_count": null,
      "outputs": [
        {
          "output_type": "execute_result",
          "data": {
            "text/plain": [
              "{'criterion': 'gini', 'max_depth': 20, 'min_samples_leaf': 5}"
            ]
          },
          "metadata": {},
          "execution_count": 70
        }
      ]
    },
    {
      "cell_type": "code",
      "source": [
        "grid_search.best_score_"
      ],
      "metadata": {
        "colab": {
          "base_uri": "https://localhost:8080/"
        },
        "id": "hU8noXAY92E_",
        "outputId": "29ed9082-ee54-4cb7-f267-89e86a4d730a"
      },
      "execution_count": null,
      "outputs": [
        {
          "output_type": "execute_result",
          "data": {
            "text/plain": [
              "0.8473905255384612"
            ]
          },
          "metadata": {},
          "execution_count": 71
        }
      ]
    },
    {
      "cell_type": "code",
      "source": [
        "dt_tuned = DecisionTreeClassifier(criterion=\"gini\",max_depth=20,min_samples_leaf=5)\n",
        "dt_tuned.fit(X_train,y_train)"
      ],
      "metadata": {
        "colab": {
          "base_uri": "https://localhost:8080/"
        },
        "id": "udtr32y695t0",
        "outputId": "e70c8d35-4646-430f-b2e5-fc50d6a0fef7"
      },
      "execution_count": null,
      "outputs": [
        {
          "output_type": "execute_result",
          "data": {
            "text/plain": [
              "DecisionTreeClassifier(max_depth=20, min_samples_leaf=5)"
            ]
          },
          "metadata": {},
          "execution_count": 72
        }
      ]
    },
    {
      "cell_type": "code",
      "source": [
        "y_pred_dt_tuned = dt_tuned.predict(X_test)\n",
        "print(\"DecisionTreeClassifie:\")\n",
        "print('Accuracy score:', round(accuracy_score(y_test, y_pred_dt_tuned) * 100, 3))\n",
        "print(\"F1 Score: \", round(f1_score(y_test,y_pred_dt_tuned) * 100,3))\n",
        "print(\"MSE: \", round(mean_squared_error(y_test,y_pred_dt_tuned) * 100,3))\n"
      ],
      "metadata": {
        "colab": {
          "base_uri": "https://localhost:8080/"
        },
        "id": "1UT6FvrK-B0U",
        "outputId": "50ed8f51-fd94-4db4-d907-da0572af6fab"
      },
      "execution_count": null,
      "outputs": [
        {
          "output_type": "stream",
          "name": "stdout",
          "text": [
            "DecisionTreeClassifie:\n",
            "Accuracy score: 86.114\n",
            "F1 Score:  86.564\n",
            "MSE:  13.886\n"
          ]
        }
      ]
    },
    {
      "cell_type": "code",
      "source": [
        "from sklearn.metrics import confusion_matrix\n",
        "cm = confusion_matrix(y_test, y_pred_dt_tuned)\n",
        "plt.figure(figsize=(10,7))\n",
        "sns.heatmap(cm,annot=True,fmt=\"d\")\n",
        "plt.xlabel(\"Predicted Value\")\n",
        "plt.ylabel(\"Truth\")\n",
        "plt.show()"
      ],
      "metadata": {
        "colab": {
          "base_uri": "https://localhost:8080/",
          "height": 442
        },
        "id": "3NrB0vVr-FdF",
        "outputId": "e578d93e-7da8-4916-efa8-db9cdd94aa32"
      },
      "execution_count": null,
      "outputs": [
        {
          "output_type": "display_data",
          "data": {
            "text/plain": [
              "<Figure size 720x504 with 2 Axes>"
            ],
            "image/png": "[encoded data removed]"
          },
          "metadata": {}
        }
      ]
    },
    {
      "cell_type": "markdown",
      "source": [
        "### Random Forest\n"
      ],
      "metadata": {
        "id": "Flhhnplo-u_I"
      }
    },
    {
      "cell_type": "code",
      "source": [
        "from sklearn.model_selection import RandomizedSearchCV\n",
        "\n",
        "n_estimators = [int(x) for x in np.linspace(start=40, stop=150, num=15)]\n",
        "max_depth = [int(x) for x in np.linspace(40, 150, num=15)]\n",
        "\n",
        "parameters = {\n",
        "    'n_estimators': n_estimators,\n",
        "    'max_depth': max_depth,\n",
        "}\n",
        "\n",
        "rf_tuned = RandomForestClassifier(random_state=30)\n",
        "                       \n",
        "rf_cv = RandomizedSearchCV(estimator=rf_tuned, param_distributions=parameters, cv=5, random_state=30)\n"
      ],
      "metadata": {
        "id": "5OYvEFWG-k-E"
      },
      "execution_count": null,
      "outputs": []
    },
    {
      "cell_type": "code",
      "source": [
        "rf_cv.fit(X_train, y_train)"
      ],
      "metadata": {
        "colab": {
          "base_uri": "https://localhost:8080/"
        },
        "id": "w_uifOC3-znH",
        "outputId": "948a638f-30fb-45e9-f11e-45b010be110d"
      },
      "execution_count": null,
      "outputs": [
        {
          "output_type": "execute_result",
          "data": {
            "text/plain": [
              "RandomizedSearchCV(cv=5, estimator=RandomForestClassifier(random_state=30),\n",
              "                   param_distributions={'max_depth': [40, 47, 55, 63, 71, 79,\n",
              "                                                      87, 95, 102, 110, 118,\n",
              "                                                      126, 134, 142, 150],\n",
              "                                        'n_estimators': [40, 47, 55, 63, 71, 79,\n",
              "                                                         87, 95, 102, 110, 118,\n",
              "                                                         126, 134, 142, 150]},\n",
              "                   random_state=30)"
            ]
          },
          "metadata": {},
          "execution_count": 77
        }
      ]
    },
    {
      "cell_type": "code",
      "source": [
        "rf_cv.best_params_"
      ],
      "metadata": {
        "colab": {
          "base_uri": "https://localhost:8080/"
        },
        "id": "LRM6XP4A_N6q",
        "outputId": "110b47cb-0320-4c69-c49d-35f6fc88e406"
      },
      "execution_count": null,
      "outputs": [
        {
          "output_type": "execute_result",
          "data": {
            "text/plain": [
              "{'n_estimators': 102, 'max_depth': 40}"
            ]
          },
          "metadata": {},
          "execution_count": 78
        }
      ]
    },
    {
      "cell_type": "code",
      "source": [
        "rf_cv.best_score_"
      ],
      "metadata": {
        "colab": {
          "base_uri": "https://localhost:8080/"
        },
        "id": "BCLHLM-d_SHa",
        "outputId": "b29730cb-02d4-4a9a-9de6-673ec21fc6c9"
      },
      "execution_count": null,
      "outputs": [
        {
          "output_type": "execute_result",
          "data": {
            "text/plain": [
              "0.9183098954375648"
            ]
          },
          "metadata": {},
          "execution_count": 79
        }
      ]
    },
    {
      "cell_type": "code",
      "source": [
        "rf_tuned = RandomForestClassifier(max_depth=40, n_estimators=102, random_state=30)\n",
        "rf_tuned.fit(X_train,y_train)"
      ],
      "metadata": {
        "colab": {
          "base_uri": "https://localhost:8080/"
        },
        "id": "cvvXTdZy_T4a",
        "outputId": "c9c3c751-527b-4a5e-fb2c-784f00de29ba"
      },
      "execution_count": null,
      "outputs": [
        {
          "output_type": "execute_result",
          "data": {
            "text/plain": [
              "RandomForestClassifier(max_depth=40, n_estimators=102, random_state=30)"
            ]
          },
          "metadata": {},
          "execution_count": 83
        }
      ]
    },
    {
      "cell_type": "code",
      "source": [
        "y_pred_rf_tuned = rf_tuned.predict(X_test)\n",
        "print(\"RandomForestClassifier:\")\n",
        "print('Accuracy score:', round(accuracy_score(y_test, y_pred_rf_tuned) * 100, 3))\n",
        "print(\"F1 Score: \", round(f1_score(y_test,y_pred_rf_tuned) * 100,3))\n",
        "print(\"MSE: \", round(mean_squared_error(y_test,y_pred_rf_tuned) * 100,3))"
      ],
      "metadata": {
        "colab": {
          "base_uri": "https://localhost:8080/"
        },
        "id": "MYRRVMQG_ZrA",
        "outputId": "78c70c16-7ef9-437d-f705-ee9c126c1f50"
      },
      "execution_count": null,
      "outputs": [
        {
          "output_type": "stream",
          "name": "stdout",
          "text": [
            "RandomForestClassifier:\n",
            "Accuracy score: 93.426\n",
            "F1 Score:  93.698\n",
            "MSE:  6.574\n"
          ]
        }
      ]
    },
    {
      "cell_type": "code",
      "source": [
        "cm = confusion_matrix(y_test, y_pred_rf_tuned)\n",
        "plt.figure(figsize=(10,7))\n",
        "sns.heatmap(cm,annot=True,fmt=\"d\")\n",
        "plt.xlabel(\"Predicted Value\")\n",
        "plt.ylabel(\"Truth\")\n",
        "plt.show()"
      ],
      "metadata": {
        "colab": {
          "base_uri": "https://localhost:8080/",
          "height": 442
        },
        "id": "zmNKmXhj_aV8",
        "outputId": "c0029cbc-0f27-46e6-88e9-c09ee9b9af51"
      },
      "execution_count": null,
      "outputs": [
        {
          "output_type": "display_data",
          "data": {
            "text/plain": [
              "<Figure size 720x504 with 2 Axes>"
            ],
            "image/png": "[encoded data removed]"
          },
          "metadata": {}
        }
      ]
    },
    {
      "cell_type": "markdown",
      "source": [
        "## Here we used multiple models like logistic regression, Naive Byers, Support Vector Classifier, Decision Tree Classifier, Random Forest Classifier and XGBoost classifier.\n",
        "## The highest accuracy score of 93.426 and f1 score of 93.698 if from a Tuned Random Forest"
      ],
      "metadata": {
        "id": "po_RLgD2_q8i"
      }
    },
    {
      "cell_type": "code",
      "source": [],
      "metadata": {
        "id": "lRBOIzRw_ilc"
      },
      "execution_count": null,
      "outputs": []
    }
  ]
}